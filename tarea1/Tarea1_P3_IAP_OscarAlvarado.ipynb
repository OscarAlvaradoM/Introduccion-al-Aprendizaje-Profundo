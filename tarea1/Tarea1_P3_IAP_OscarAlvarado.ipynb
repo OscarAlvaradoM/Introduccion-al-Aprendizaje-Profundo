{
  "nbformat": 4,
  "nbformat_minor": 0,
  "metadata": {
    "colab": {
      "name": "Tarea1_P3_IAP_OscarAlvarado.ipynb",
      "provenance": [],
      "authorship_tag": "ABX9TyNwsRA9888YFHuKi1UMVev7",
      "include_colab_link": true
    },
    "kernelspec": {
      "name": "python3",
      "display_name": "Python 3"
    },
    "language_info": {
      "name": "python"
    }
  },
  "cells": [
    {
      "cell_type": "markdown",
      "metadata": {
        "id": "view-in-github",
        "colab_type": "text"
      },
      "source": [
        "<a href=\"https://colab.research.google.com/github/OscarAlvaradoM/Introduccion-al-Aprendizaje-Profundo/blob/main/tarea1/Tarea1_P3_IAP_OscarAlvarado.ipynb\" target=\"_parent\"><img src=\"https://colab.research.google.com/assets/colab-badge.svg\" alt=\"Open In Colab\"/></a>"
      ]
    },
    {
      "cell_type": "markdown",
      "metadata": {
        "id": "A773RYp9_ov8"
      },
      "source": [
        "## 3.-\n",
        "Entrena una red completamente conectada para aproximar la compuerta XOR."
      ]
    },
    {
      "cell_type": "code",
      "metadata": {
        "id": "85Dn7o_P_g2i"
      },
      "source": [
        "import numpy as np\n",
        "import matplotlib.pyplot as plt\n",
        "# tomar n elementos de una secuencia\n",
        "from itertools import islice as take\n",
        "# redes neuronales\n",
        "import torch\n",
        "import torch.nn as nn\n",
        "import torch.optim as optim\n",
        "import torch.nn.functional as F\n",
        "# barras de progreso\n",
        "from tqdm import trange\n",
        "from torch.utils.data import TensorDataset, DataLoader "
      ],
      "execution_count": 126,
      "outputs": []
    },
    {
      "cell_type": "code",
      "metadata": {
        "id": "KP-yTsDp_0Ae"
      },
      "source": [
        "# definición del modelo\n",
        "class FCN(nn.Module):\n",
        "    # inicializador\n",
        "    def __init__(self, capas=2,neuronas=3):\n",
        "        \n",
        "        # inicilización del objeto padre, obligatorio\n",
        "        super(FCN, self).__init__()\n",
        "        \n",
        "        # tamaño de las capas\n",
        "        self.I = 1 * 2 * 1\n",
        "\n",
        "        FC1, FC15, FC2 = neuronas, neuronas, 2\n",
        "\n",
        "        # definición de capas\n",
        "        if capas == 1:\n",
        "            self.cls = nn.Sequential(\n",
        "                # fc1\n",
        "                # [M, 3x32x32] => [M, 128]\n",
        "                nn.Linear(self.I, FC1),\n",
        "                nn.ReLU(),\n",
        "                # fc2\n",
        "                # [M, 128] => [M, 10]\n",
        "                nn.Linear(FC1, FC2)\n",
        "            )\n",
        "        elif capas == 2:\n",
        "            self.cls = nn.Sequential(\n",
        "                # fc1\n",
        "                # [M, 3x32x32] => [M, 128]\n",
        "                nn.Linear(self.I, FC1),\n",
        "                nn.ReLU(),\n",
        "                # fc15\n",
        "                # [M, 3x32x32] => [M, 128]\n",
        "                nn.Linear(FC1, FC15),\n",
        "                nn.ReLU(),\n",
        "                # fc2\n",
        "                # [M, 128] => [M, 10]\n",
        "                nn.Linear(FC15, FC2)\n",
        "            )\n",
        "\n",
        "    \n",
        "    # método para inferencia\n",
        "    def forward(self, x):\n",
        "        \n",
        "        # aplanamos los pixeles de la imagen\n",
        "        # [M, 1, 2, 1] => [M, 1x2x1]\n",
        "        x = x.view(-1, self.I)\n",
        "        \n",
        "        # inferencia\n",
        "        # [M, 1x2x1]\n",
        "        x = self.cls(x)\n",
        "        \n",
        "        return x"
      ],
      "execution_count": 130,
      "outputs": []
    },
    {
      "cell_type": "code",
      "metadata": {
        "id": "9VxMxmkD_2q9"
      },
      "source": [
        "def train_epoch(dl, model, opt):\n",
        "\n",
        "    # por cada lote\n",
        "    for x, y_true in dl:\n",
        "        \n",
        "        # computamos logits\n",
        "        y_lgts = model(x)\n",
        "        \n",
        "        # computamos la pérdida\n",
        "        loss = F.cross_entropy(y_lgts, y_true)\n",
        "        \n",
        "        # vaciamos los gradientes\n",
        "        opt.zero_grad()\n",
        "        \n",
        "        # retropropagamos\n",
        "        loss.backward()\n",
        "        \n",
        "        # actualizamos parámetros\n",
        "        opt.step()\n",
        "\n",
        "\n",
        "def eval_epoch(dl, model, num_batches=None):\n",
        "\n",
        "    # evitamos que se registren las operaciones \n",
        "    # en la gráfica de cómputo\n",
        "    with torch.no_grad():\n",
        "\n",
        "        # historiales\n",
        "        losses, accs = [], []\n",
        "\n",
        "        # validación de la época con num_batches\n",
        "        # si num_batches==None, se usan todos los lotes\n",
        "        for x, y_true in take(dl, num_batches):\n",
        "\n",
        "            # computamos los logits\n",
        "            y_lgts = model(x)\n",
        "\n",
        "            # computamos los puntajes\n",
        "            y_prob = F.softmax(y_lgts, 1)\n",
        "\n",
        "            # computamos la clases\n",
        "            y_pred = torch.argmax(y_prob, 1)\n",
        "\n",
        "            # computamos la pérdida\n",
        "            loss = F.cross_entropy(y_lgts, y_true)\n",
        "\n",
        "            # computamos la exactitud\n",
        "            acc = (y_true == y_pred).type(torch.float32).mean()\n",
        "\n",
        "            # guardamos históricos\n",
        "            losses.append(loss.item())\n",
        "            accs.append(acc.item())\n",
        "\n",
        "        # promediamos\n",
        "        loss = np.mean(losses) * 100\n",
        "        acc = np.mean(accs) * 100\n",
        "\n",
        "        return loss, acc\n",
        "        \n",
        "        \n",
        "def train(model, trn_dl, tst_dl, lr=1e-3, epochs=20,\n",
        "          trn_batches=None, tst_batches=None):\n",
        "\n",
        "    # historiales\n",
        "    loss_hist, acc_hist = [], []\n",
        "    \n",
        "    # optimizador\n",
        "    opt = optim.SGD(model.parameters(), lr=lr)\n",
        "\n",
        "    # ciclo de entrenamiento\n",
        "    for epoch in trange(epochs):\n",
        "\n",
        "        # entrenamos la época\n",
        "        train_epoch(trn_dl, model, opt)\n",
        "\n",
        "        # evaluamos la época en entrenamiento\n",
        "        trn_loss, trn_acc = eval_epoch(trn_dl, model, trn_batches)\n",
        "        # evaluamos la época en prueba\n",
        "        tst_loss, tst_acc = eval_epoch(tst_dl, model, tst_batches)\n",
        "\n",
        "        # guardamos historial\n",
        "        loss_hist.append([trn_loss, tst_loss])\n",
        "        acc_hist.append([trn_acc, tst_acc])\n",
        "\n",
        "        # imprimimos progreso\n",
        "        print(f'E{epoch:02} '\n",
        "              f'loss=[{trn_loss:6.2f},{tst_loss:6.2f}] '\n",
        "              f'acc=[{trn_acc:5.2f},{tst_acc:5.2f}]')\n",
        "\n",
        "    return loss_hist, acc_hist"
      ],
      "execution_count": 115,
      "outputs": []
    },
    {
      "cell_type": "code",
      "metadata": {
        "id": "67wYT912KL5n"
      },
      "source": [
        "X_train = torch.normal(mean=torch.zeros(10000,2), std=torch.ones(10000,2))\n",
        "y_true = X_train[:,0]*X_train[:,1]\n",
        "f = lambda x: 0 if x < 0 else 1\n",
        "y_true =  y_true.apply_(f).type(torch.LongTensor)"
      ],
      "execution_count": 116,
      "outputs": []
    },
    {
      "cell_type": "code",
      "metadata": {
        "id": "NrI-OoPBRXFN"
      },
      "source": [
        "X_test = torch.normal(mean=torch.zeros(1000,2), std=torch.ones(1000,2))\n",
        "y_test = X_test[:,0]*X_test[:,1]\n",
        "y_test =  y_test.apply_(f).type(torch.LongTensor)"
      ],
      "execution_count": 117,
      "outputs": []
    },
    {
      "cell_type": "code",
      "metadata": {
        "id": "-7NV5sCQicSg"
      },
      "source": [
        "# Creamos unos dataloaders para ver si puede tener mejor rendimiento con más datos\n",
        "trn_ds = TensorDataset(X_train,y_true)\n",
        "tst_ds = TensorDataset(X_test, y_test)\n",
        "\n",
        "trn_dl = DataLoader(trn_ds, batch_size=32, shuffle=True)\n",
        "tst_dl = DataLoader(tst_ds, batch_size=32, shuffle=True)"
      ],
      "execution_count": 118,
      "outputs": []
    },
    {
      "cell_type": "markdown",
      "metadata": {
        "id": "2-7QZ9drl1P9"
      },
      "source": [
        "## Una capa"
      ]
    },
    {
      "cell_type": "code",
      "metadata": {
        "colab": {
          "base_uri": "https://localhost:8080/"
        },
        "id": "uIjY-NnAkuMg",
        "outputId": "f50f0dc1-c116-458d-8422-b8b0eec17a56"
      },
      "source": [
        "model = FCN(capas=1,neuronas=1)\n",
        "loss_hist, acc_hist = train(model, trn_dl, tst_dl, lr=1e-2, epochs=40)"
      ],
      "execution_count": 132,
      "outputs": [
        {
          "output_type": "stream",
          "text": [
            "  2%|▎         | 1/40 [00:00<00:14,  2.78it/s]"
          ],
          "name": "stderr"
        },
        {
          "output_type": "stream",
          "text": [
            "E00 loss=[ 66.73, 67.06] acc=[60.02,59.57]\n"
          ],
          "name": "stdout"
        },
        {
          "output_type": "stream",
          "text": [
            "\r  5%|▌         | 2/40 [00:00<00:13,  2.83it/s]"
          ],
          "name": "stderr"
        },
        {
          "output_type": "stream",
          "text": [
            "E01 loss=[ 65.66, 66.57] acc=[60.90,58.50]\n"
          ],
          "name": "stdout"
        },
        {
          "output_type": "stream",
          "text": [
            "\r  8%|▊         | 3/40 [00:01<00:12,  2.86it/s]"
          ],
          "name": "stderr"
        },
        {
          "output_type": "stream",
          "text": [
            "E02 loss=[ 64.90, 65.56] acc=[61.87,59.38]\n"
          ],
          "name": "stdout"
        },
        {
          "output_type": "stream",
          "text": [
            "\r 10%|█         | 4/40 [00:01<00:12,  2.86it/s]"
          ],
          "name": "stderr"
        },
        {
          "output_type": "stream",
          "text": [
            "E03 loss=[ 64.42, 65.30] acc=[62.01,58.89]\n"
          ],
          "name": "stdout"
        },
        {
          "output_type": "stream",
          "text": [
            "\r 12%|█▎        | 5/40 [00:01<00:12,  2.88it/s]"
          ],
          "name": "stderr"
        },
        {
          "output_type": "stream",
          "text": [
            "E04 loss=[ 64.06, 64.91] acc=[62.37,59.57]\n"
          ],
          "name": "stdout"
        },
        {
          "output_type": "stream",
          "text": [
            "\r 15%|█▌        | 6/40 [00:02<00:11,  2.87it/s]"
          ],
          "name": "stderr"
        },
        {
          "output_type": "stream",
          "text": [
            "E05 loss=[ 63.84, 64.89] acc=[62.50,59.57]\n"
          ],
          "name": "stdout"
        },
        {
          "output_type": "stream",
          "text": [
            "\r 18%|█▊        | 7/40 [00:02<00:11,  2.81it/s]"
          ],
          "name": "stderr"
        },
        {
          "output_type": "stream",
          "text": [
            "E06 loss=[ 63.69, 65.02] acc=[62.74,59.77]\n"
          ],
          "name": "stdout"
        },
        {
          "output_type": "stream",
          "text": [
            "\r 20%|██        | 8/40 [00:02<00:11,  2.83it/s]"
          ],
          "name": "stderr"
        },
        {
          "output_type": "stream",
          "text": [
            "E07 loss=[ 63.56, 65.15] acc=[62.80,59.96]\n"
          ],
          "name": "stdout"
        },
        {
          "output_type": "stream",
          "text": [
            "\r 22%|██▎       | 9/40 [00:03<00:10,  2.84it/s]"
          ],
          "name": "stderr"
        },
        {
          "output_type": "stream",
          "text": [
            "E08 loss=[ 63.46, 65.44] acc=[62.82,59.77]\n"
          ],
          "name": "stdout"
        },
        {
          "output_type": "stream",
          "text": [
            "\r 25%|██▌       | 10/40 [00:03<00:10,  2.83it/s]"
          ],
          "name": "stderr"
        },
        {
          "output_type": "stream",
          "text": [
            "E09 loss=[ 63.38, 64.79] acc=[62.96,60.45]\n"
          ],
          "name": "stdout"
        },
        {
          "output_type": "stream",
          "text": [
            "\r 28%|██▊       | 11/40 [00:03<00:10,  2.87it/s]"
          ],
          "name": "stderr"
        },
        {
          "output_type": "stream",
          "text": [
            "E10 loss=[ 63.36, 65.18] acc=[62.81,60.25]\n"
          ],
          "name": "stdout"
        },
        {
          "output_type": "stream",
          "text": [
            "\r 30%|███       | 12/40 [00:04<00:09,  2.87it/s]"
          ],
          "name": "stderr"
        },
        {
          "output_type": "stream",
          "text": [
            "E11 loss=[ 63.30, 65.48] acc=[62.86,60.25]\n"
          ],
          "name": "stdout"
        },
        {
          "output_type": "stream",
          "text": [
            "\r 32%|███▎      | 13/40 [00:04<00:09,  2.81it/s]"
          ],
          "name": "stderr"
        },
        {
          "output_type": "stream",
          "text": [
            "E12 loss=[ 63.30, 64.45] acc=[62.84,61.33]\n"
          ],
          "name": "stdout"
        },
        {
          "output_type": "stream",
          "text": [
            "\r 35%|███▌      | 14/40 [00:04<00:09,  2.80it/s]"
          ],
          "name": "stderr"
        },
        {
          "output_type": "stream",
          "text": [
            "E13 loss=[ 63.29, 64.98] acc=[62.81,60.74]\n"
          ],
          "name": "stdout"
        },
        {
          "output_type": "stream",
          "text": [
            "\r 38%|███▊      | 15/40 [00:05<00:08,  2.79it/s]"
          ],
          "name": "stderr"
        },
        {
          "output_type": "stream",
          "text": [
            "E14 loss=[ 63.27, 65.01] acc=[62.75,60.64]\n"
          ],
          "name": "stdout"
        },
        {
          "output_type": "stream",
          "text": [
            "\r 40%|████      | 16/40 [00:05<00:08,  2.81it/s]"
          ],
          "name": "stderr"
        },
        {
          "output_type": "stream",
          "text": [
            "E15 loss=[ 63.24, 65.12] acc=[62.91,60.25]\n"
          ],
          "name": "stdout"
        },
        {
          "output_type": "stream",
          "text": [
            "\r 42%|████▎     | 17/40 [00:05<00:08,  2.87it/s]"
          ],
          "name": "stderr"
        },
        {
          "output_type": "stream",
          "text": [
            "E16 loss=[ 63.23, 65.03] acc=[62.86,60.64]\n"
          ],
          "name": "stdout"
        },
        {
          "output_type": "stream",
          "text": [
            "\r 45%|████▌     | 18/40 [00:06<00:07,  2.89it/s]"
          ],
          "name": "stderr"
        },
        {
          "output_type": "stream",
          "text": [
            "E17 loss=[ 63.21, 64.95] acc=[62.89,60.55]\n"
          ],
          "name": "stdout"
        },
        {
          "output_type": "stream",
          "text": [
            "\r 48%|████▊     | 19/40 [00:06<00:07,  2.90it/s]"
          ],
          "name": "stderr"
        },
        {
          "output_type": "stream",
          "text": [
            "E18 loss=[ 63.22, 65.00] acc=[62.89,60.84]\n"
          ],
          "name": "stdout"
        },
        {
          "output_type": "stream",
          "text": [
            "\r 50%|█████     | 20/40 [00:07<00:07,  2.84it/s]"
          ],
          "name": "stderr"
        },
        {
          "output_type": "stream",
          "text": [
            "E19 loss=[ 63.19, 65.17] acc=[62.94,60.16]\n"
          ],
          "name": "stdout"
        },
        {
          "output_type": "stream",
          "text": [
            "\r 52%|█████▎    | 21/40 [00:07<00:06,  2.81it/s]"
          ],
          "name": "stderr"
        },
        {
          "output_type": "stream",
          "text": [
            "E20 loss=[ 63.21, 64.62] acc=[62.88,60.84]\n"
          ],
          "name": "stdout"
        },
        {
          "output_type": "stream",
          "text": [
            "\r 55%|█████▌    | 22/40 [00:07<00:06,  2.79it/s]"
          ],
          "name": "stderr"
        },
        {
          "output_type": "stream",
          "text": [
            "E21 loss=[ 63.20, 64.64] acc=[62.90,60.64]\n"
          ],
          "name": "stdout"
        },
        {
          "output_type": "stream",
          "text": [
            "\r 57%|█████▊    | 23/40 [00:08<00:05,  2.85it/s]"
          ],
          "name": "stderr"
        },
        {
          "output_type": "stream",
          "text": [
            "E22 loss=[ 63.19, 64.70] acc=[62.91,60.94]\n"
          ],
          "name": "stdout"
        },
        {
          "output_type": "stream",
          "text": [
            "\r 60%|██████    | 24/40 [00:08<00:05,  2.88it/s]"
          ],
          "name": "stderr"
        },
        {
          "output_type": "stream",
          "text": [
            "E23 loss=[ 63.17, 65.11] acc=[62.92,60.35]\n"
          ],
          "name": "stdout"
        },
        {
          "output_type": "stream",
          "text": [
            "\r 62%|██████▎   | 25/40 [00:08<00:05,  2.86it/s]"
          ],
          "name": "stderr"
        },
        {
          "output_type": "stream",
          "text": [
            "E24 loss=[ 63.20, 64.85] acc=[62.89,61.04]\n"
          ],
          "name": "stdout"
        },
        {
          "output_type": "stream",
          "text": [
            "\r 65%|██████▌   | 26/40 [00:09<00:04,  2.86it/s]"
          ],
          "name": "stderr"
        },
        {
          "output_type": "stream",
          "text": [
            "E25 loss=[ 63.20, 64.84] acc=[62.91,60.55]\n"
          ],
          "name": "stdout"
        },
        {
          "output_type": "stream",
          "text": [
            "\r 68%|██████▊   | 27/40 [00:09<00:04,  2.82it/s]"
          ],
          "name": "stderr"
        },
        {
          "output_type": "stream",
          "text": [
            "E26 loss=[ 63.21, 65.00] acc=[62.86,61.04]\n"
          ],
          "name": "stdout"
        },
        {
          "output_type": "stream",
          "text": [
            "\r 70%|███████   | 28/40 [00:09<00:04,  2.77it/s]"
          ],
          "name": "stderr"
        },
        {
          "output_type": "stream",
          "text": [
            "E27 loss=[ 63.18, 64.94] acc=[62.95,60.45]\n"
          ],
          "name": "stdout"
        },
        {
          "output_type": "stream",
          "text": [
            "\r 72%|███████▎  | 29/40 [00:10<00:03,  2.82it/s]"
          ],
          "name": "stderr"
        },
        {
          "output_type": "stream",
          "text": [
            "E28 loss=[ 63.18, 64.51] acc=[62.93,61.23]\n"
          ],
          "name": "stdout"
        },
        {
          "output_type": "stream",
          "text": [
            "\r 75%|███████▌  | 30/40 [00:10<00:03,  2.84it/s]"
          ],
          "name": "stderr"
        },
        {
          "output_type": "stream",
          "text": [
            "E29 loss=[ 63.17, 65.22] acc=[62.92,60.35]\n"
          ],
          "name": "stdout"
        },
        {
          "output_type": "stream",
          "text": [
            "\r 78%|███████▊  | 31/40 [00:10<00:03,  2.86it/s]"
          ],
          "name": "stderr"
        },
        {
          "output_type": "stream",
          "text": [
            "E30 loss=[ 63.17, 65.04] acc=[62.87,60.84]\n"
          ],
          "name": "stdout"
        },
        {
          "output_type": "stream",
          "text": [
            "\r 80%|████████  | 32/40 [00:11<00:02,  2.89it/s]"
          ],
          "name": "stderr"
        },
        {
          "output_type": "stream",
          "text": [
            "E31 loss=[ 63.17, 64.92] acc=[62.92,60.84]\n"
          ],
          "name": "stdout"
        },
        {
          "output_type": "stream",
          "text": [
            "\r 82%|████████▎ | 33/40 [00:11<00:02,  2.90it/s]"
          ],
          "name": "stderr"
        },
        {
          "output_type": "stream",
          "text": [
            "E32 loss=[ 63.19, 65.31] acc=[62.89,60.25]\n"
          ],
          "name": "stdout"
        },
        {
          "output_type": "stream",
          "text": [
            "\r 85%|████████▌ | 34/40 [00:11<00:02,  2.85it/s]"
          ],
          "name": "stderr"
        },
        {
          "output_type": "stream",
          "text": [
            "E33 loss=[ 63.19, 65.15] acc=[62.83,60.06]\n"
          ],
          "name": "stdout"
        },
        {
          "output_type": "stream",
          "text": [
            "\r 88%|████████▊ | 35/40 [00:12<00:01,  2.83it/s]"
          ],
          "name": "stderr"
        },
        {
          "output_type": "stream",
          "text": [
            "E34 loss=[ 63.18, 65.09] acc=[62.94,60.64]\n"
          ],
          "name": "stdout"
        },
        {
          "output_type": "stream",
          "text": [
            "\r 90%|█████████ | 36/40 [00:12<00:01,  2.83it/s]"
          ],
          "name": "stderr"
        },
        {
          "output_type": "stream",
          "text": [
            "E35 loss=[ 63.19, 65.17] acc=[62.90,60.55]\n"
          ],
          "name": "stdout"
        },
        {
          "output_type": "stream",
          "text": [
            "\r 92%|█████████▎| 37/40 [00:12<00:01,  2.87it/s]"
          ],
          "name": "stderr"
        },
        {
          "output_type": "stream",
          "text": [
            "E36 loss=[ 63.19, 64.59] acc=[62.91,61.23]\n"
          ],
          "name": "stdout"
        },
        {
          "output_type": "stream",
          "text": [
            "\r 95%|█████████▌| 38/40 [00:13<00:00,  2.84it/s]"
          ],
          "name": "stderr"
        },
        {
          "output_type": "stream",
          "text": [
            "E37 loss=[ 63.19, 64.94] acc=[62.90,60.35]\n"
          ],
          "name": "stdout"
        },
        {
          "output_type": "stream",
          "text": [
            "\r 98%|█████████▊| 39/40 [00:13<00:00,  2.85it/s]"
          ],
          "name": "stderr"
        },
        {
          "output_type": "stream",
          "text": [
            "E38 loss=[ 63.16, 64.86] acc=[62.94,61.33]\n"
          ],
          "name": "stdout"
        },
        {
          "output_type": "stream",
          "text": [
            "100%|██████████| 40/40 [00:14<00:00,  2.85it/s]"
          ],
          "name": "stderr"
        },
        {
          "output_type": "stream",
          "text": [
            "E39 loss=[ 63.18, 64.91] acc=[62.85,60.94]\n"
          ],
          "name": "stdout"
        },
        {
          "output_type": "stream",
          "text": [
            "\n"
          ],
          "name": "stderr"
        }
      ]
    },
    {
      "cell_type": "code",
      "metadata": {
        "colab": {
          "base_uri": "https://localhost:8080/",
          "height": 280
        },
        "id": "pyopMQdJk6gP",
        "outputId": "32dee048-e14e-4723-b4da-5a8cb1bf23c7"
      },
      "source": [
        "trn_loss, tst_loss = zip(*loss_hist)\n",
        "plt.plot(trn_loss, 'tab:orange', label='trn loss')\n",
        "plt.plot(tst_loss, 'tab:red', label='tst loss')\n",
        "plt.legend(loc='upper right')\n",
        "plt.xlabel('época')\n",
        "plt.ylabel('pérdida')\n",
        "plt.show()"
      ],
      "execution_count": 133,
      "outputs": [
        {
          "output_type": "display_data",
          "data": {
            "image/png": "[encoded data removed]",
            "text/plain": [
              "<Figure size 432x288 with 1 Axes>"
            ]
          },
          "metadata": {
            "tags": [],
            "needs_background": "light"
          }
        }
      ]
    },
    {
      "cell_type": "code",
      "metadata": {
        "colab": {
          "base_uri": "https://localhost:8080/",
          "height": 280
        },
        "id": "JdOEVDHxk9o_",
        "outputId": "66d9eae2-2f88-41d8-d585-aaaedc904ec0"
      },
      "source": [
        "trn_acc_2_64, tst_acc_2_64 = zip(*acc_hist)\n",
        "plt.plot(trn_acc_2_64, 'tab:green', label='trn acc')\n",
        "plt.plot(tst_acc_2_64, 'tab:blue', label='tst acc')\n",
        "plt.legend(loc='lower right')\n",
        "plt.xlabel('época')\n",
        "plt.ylabel('exactitud')\n",
        "plt.show()"
      ],
      "execution_count": 134,
      "outputs": [
        {
          "output_type": "display_data",
          "data": {
            "image/png": "[encoded data removed]",
            "text/plain": [
              "<Figure size 432x288 with 1 Axes>"
            ]
          },
          "metadata": {
            "tags": [],
            "needs_background": "light"
          }
        }
      ]
    },
    {
      "cell_type": "code",
      "metadata": {
        "colab": {
          "base_uri": "https://localhost:8080/"
        },
        "id": "KgZKPMrIlAXg",
        "outputId": "58955085-e253-4a72-c468-c4597c34f024"
      },
      "source": [
        "model = FCN(capas=1,neuronas=2)\n",
        "loss_hist, acc_hist = train(model, trn_dl, tst_dl, lr=1e-2, epochs=40)"
      ],
      "execution_count": 135,
      "outputs": [
        {
          "output_type": "stream",
          "text": [
            "  2%|▎         | 1/40 [00:00<00:14,  2.69it/s]"
          ],
          "name": "stderr"
        },
        {
          "output_type": "stream",
          "text": [
            "E00 loss=[ 67.30, 67.57] acc=[60.14,61.62]\n"
          ],
          "name": "stdout"
        },
        {
          "output_type": "stream",
          "text": [
            "\r  5%|▌         | 2/40 [00:00<00:14,  2.66it/s]"
          ],
          "name": "stderr"
        },
        {
          "output_type": "stream",
          "text": [
            "E01 loss=[ 65.48, 65.66] acc=[58.56,58.89]\n"
          ],
          "name": "stdout"
        },
        {
          "output_type": "stream",
          "text": [
            "\r  8%|▊         | 3/40 [00:01<00:13,  2.66it/s]"
          ],
          "name": "stderr"
        },
        {
          "output_type": "stream",
          "text": [
            "E02 loss=[ 63.91, 63.88] acc=[60.58,61.23]\n"
          ],
          "name": "stdout"
        },
        {
          "output_type": "stream",
          "text": [
            "\r 10%|█         | 4/40 [00:01<00:13,  2.64it/s]"
          ],
          "name": "stderr"
        },
        {
          "output_type": "stream",
          "text": [
            "E03 loss=[ 62.55, 62.60] acc=[61.71,61.72]\n"
          ],
          "name": "stdout"
        },
        {
          "output_type": "stream",
          "text": [
            "\r 12%|█▎        | 5/40 [00:01<00:13,  2.66it/s]"
          ],
          "name": "stderr"
        },
        {
          "output_type": "stream",
          "text": [
            "E04 loss=[ 61.30, 61.21] acc=[61.90,62.50]\n"
          ],
          "name": "stdout"
        },
        {
          "output_type": "stream",
          "text": [
            "\r 15%|█▌        | 6/40 [00:02<00:12,  2.67it/s]"
          ],
          "name": "stderr"
        },
        {
          "output_type": "stream",
          "text": [
            "E05 loss=[ 60.08, 59.99] acc=[70.21,72.75]\n"
          ],
          "name": "stdout"
        },
        {
          "output_type": "stream",
          "text": [
            "\r 18%|█▊        | 7/40 [00:02<00:12,  2.66it/s]"
          ],
          "name": "stderr"
        },
        {
          "output_type": "stream",
          "text": [
            "E06 loss=[ 58.90, 58.80] acc=[71.74,72.85]\n"
          ],
          "name": "stdout"
        },
        {
          "output_type": "stream",
          "text": [
            "\r 20%|██        | 8/40 [00:03<00:11,  2.68it/s]"
          ],
          "name": "stderr"
        },
        {
          "output_type": "stream",
          "text": [
            "E07 loss=[ 57.80, 57.45] acc=[72.61,72.95]\n"
          ],
          "name": "stdout"
        },
        {
          "output_type": "stream",
          "text": [
            "\r 22%|██▎       | 9/40 [00:03<00:11,  2.69it/s]"
          ],
          "name": "stderr"
        },
        {
          "output_type": "stream",
          "text": [
            "E08 loss=[ 56.75, 56.41] acc=[73.31,74.12]\n"
          ],
          "name": "stdout"
        },
        {
          "output_type": "stream",
          "text": [
            "\r 25%|██▌       | 10/40 [00:03<00:11,  2.66it/s]"
          ],
          "name": "stderr"
        },
        {
          "output_type": "stream",
          "text": [
            "E09 loss=[ 55.77, 55.43] acc=[73.71,75.20]\n"
          ],
          "name": "stdout"
        },
        {
          "output_type": "stream",
          "text": [
            "\r 28%|██▊       | 11/40 [00:04<00:10,  2.68it/s]"
          ],
          "name": "stderr"
        },
        {
          "output_type": "stream",
          "text": [
            "E10 loss=[ 54.91, 53.95] acc=[73.89,76.56]\n"
          ],
          "name": "stdout"
        },
        {
          "output_type": "stream",
          "text": [
            "\r 30%|███       | 12/40 [00:04<00:10,  2.68it/s]"
          ],
          "name": "stderr"
        },
        {
          "output_type": "stream",
          "text": [
            "E11 loss=[ 54.16, 53.53] acc=[74.36,76.17]\n"
          ],
          "name": "stdout"
        },
        {
          "output_type": "stream",
          "text": [
            "\r 32%|███▎      | 13/40 [00:04<00:10,  2.67it/s]"
          ],
          "name": "stderr"
        },
        {
          "output_type": "stream",
          "text": [
            "E12 loss=[ 53.55, 52.74] acc=[74.54,76.66]\n"
          ],
          "name": "stdout"
        },
        {
          "output_type": "stream",
          "text": [
            "\r 35%|███▌      | 14/40 [00:05<00:09,  2.65it/s]"
          ],
          "name": "stderr"
        },
        {
          "output_type": "stream",
          "text": [
            "E13 loss=[ 53.02, 51.96] acc=[74.56,77.05]\n"
          ],
          "name": "stdout"
        },
        {
          "output_type": "stream",
          "text": [
            "\r 38%|███▊      | 15/40 [00:05<00:09,  2.64it/s]"
          ],
          "name": "stderr"
        },
        {
          "output_type": "stream",
          "text": [
            "E14 loss=[ 52.59, 51.99] acc=[74.60,76.86]\n"
          ],
          "name": "stdout"
        },
        {
          "output_type": "stream",
          "text": [
            "\r 40%|████      | 16/40 [00:06<00:09,  2.66it/s]"
          ],
          "name": "stderr"
        },
        {
          "output_type": "stream",
          "text": [
            "E15 loss=[ 52.21, 51.68] acc=[74.75,76.56]\n"
          ],
          "name": "stdout"
        },
        {
          "output_type": "stream",
          "text": [
            "\r 42%|████▎     | 17/40 [00:06<00:08,  2.68it/s]"
          ],
          "name": "stderr"
        },
        {
          "output_type": "stream",
          "text": [
            "E16 loss=[ 51.99, 50.67] acc=[74.40,76.66]\n"
          ],
          "name": "stdout"
        },
        {
          "output_type": "stream",
          "text": [
            "\r 45%|████▌     | 18/40 [00:06<00:08,  2.67it/s]"
          ],
          "name": "stderr"
        },
        {
          "output_type": "stream",
          "text": [
            "E17 loss=[ 51.69, 51.36] acc=[74.75,75.68]\n"
          ],
          "name": "stdout"
        },
        {
          "output_type": "stream",
          "text": [
            "\r 48%|████▊     | 19/40 [00:07<00:07,  2.65it/s]"
          ],
          "name": "stderr"
        },
        {
          "output_type": "stream",
          "text": [
            "E18 loss=[ 51.44, 50.29] acc=[74.75,76.37]\n"
          ],
          "name": "stdout"
        },
        {
          "output_type": "stream",
          "text": [
            "\r 50%|█████     | 20/40 [00:07<00:07,  2.62it/s]"
          ],
          "name": "stderr"
        },
        {
          "output_type": "stream",
          "text": [
            "E19 loss=[ 51.25, 49.67] acc=[74.74,77.05]\n"
          ],
          "name": "stdout"
        },
        {
          "output_type": "stream",
          "text": [
            "\r 52%|█████▎    | 21/40 [00:07<00:07,  2.65it/s]"
          ],
          "name": "stderr"
        },
        {
          "output_type": "stream",
          "text": [
            "E20 loss=[ 51.09, 49.66] acc=[74.78,76.76]\n"
          ],
          "name": "stdout"
        },
        {
          "output_type": "stream",
          "text": [
            "\r 55%|█████▌    | 22/40 [00:08<00:06,  2.65it/s]"
          ],
          "name": "stderr"
        },
        {
          "output_type": "stream",
          "text": [
            "E21 loss=[ 51.02, 49.08] acc=[74.89,77.44]\n"
          ],
          "name": "stdout"
        },
        {
          "output_type": "stream",
          "text": [
            "\r 57%|█████▊    | 23/40 [00:08<00:06,  2.66it/s]"
          ],
          "name": "stderr"
        },
        {
          "output_type": "stream",
          "text": [
            "E22 loss=[ 50.94, 48.76] acc=[74.59,76.76]\n"
          ],
          "name": "stdout"
        },
        {
          "output_type": "stream",
          "text": [
            "\r 60%|██████    | 24/40 [00:09<00:05,  2.69it/s]"
          ],
          "name": "stderr"
        },
        {
          "output_type": "stream",
          "text": [
            "E23 loss=[ 50.83, 49.05] acc=[74.86,77.44]\n"
          ],
          "name": "stdout"
        },
        {
          "output_type": "stream",
          "text": [
            "\r 62%|██████▎   | 25/40 [00:09<00:05,  2.66it/s]"
          ],
          "name": "stderr"
        },
        {
          "output_type": "stream",
          "text": [
            "E24 loss=[ 50.78, 49.29] acc=[74.87,76.76]\n"
          ],
          "name": "stdout"
        },
        {
          "output_type": "stream",
          "text": [
            "\r 65%|██████▌   | 26/40 [00:09<00:05,  2.66it/s]"
          ],
          "name": "stderr"
        },
        {
          "output_type": "stream",
          "text": [
            "E25 loss=[ 50.67, 49.40] acc=[74.79,76.46]\n"
          ],
          "name": "stdout"
        },
        {
          "output_type": "stream",
          "text": [
            "\r 68%|██████▊   | 27/40 [00:10<00:04,  2.67it/s]"
          ],
          "name": "stderr"
        },
        {
          "output_type": "stream",
          "text": [
            "E26 loss=[ 50.62, 48.80] acc=[74.79,77.05]\n"
          ],
          "name": "stdout"
        },
        {
          "output_type": "stream",
          "text": [
            "\r 70%|███████   | 28/40 [00:10<00:04,  2.64it/s]"
          ],
          "name": "stderr"
        },
        {
          "output_type": "stream",
          "text": [
            "E27 loss=[ 50.66, 48.69] acc=[74.76,77.05]\n"
          ],
          "name": "stdout"
        },
        {
          "output_type": "stream",
          "text": [
            "\r 72%|███████▎  | 29/40 [00:10<00:04,  2.67it/s]"
          ],
          "name": "stderr"
        },
        {
          "output_type": "stream",
          "text": [
            "E28 loss=[ 50.57, 48.57] acc=[74.79,76.56]\n"
          ],
          "name": "stdout"
        },
        {
          "output_type": "stream",
          "text": [
            "\r 75%|███████▌  | 30/40 [00:11<00:03,  2.68it/s]"
          ],
          "name": "stderr"
        },
        {
          "output_type": "stream",
          "text": [
            "E29 loss=[ 50.55, 48.68] acc=[74.79,76.76]\n"
          ],
          "name": "stdout"
        },
        {
          "output_type": "stream",
          "text": [
            "\r 78%|███████▊  | 31/40 [00:11<00:03,  2.65it/s]"
          ],
          "name": "stderr"
        },
        {
          "output_type": "stream",
          "text": [
            "E30 loss=[ 50.50, 48.42] acc=[74.74,76.95]\n"
          ],
          "name": "stdout"
        },
        {
          "output_type": "stream",
          "text": [
            "\r 80%|████████  | 32/40 [00:12<00:03,  2.66it/s]"
          ],
          "name": "stderr"
        },
        {
          "output_type": "stream",
          "text": [
            "E31 loss=[ 50.59, 48.66] acc=[74.79,77.44]\n"
          ],
          "name": "stdout"
        },
        {
          "output_type": "stream",
          "text": [
            "\r 82%|████████▎ | 33/40 [00:12<00:02,  2.67it/s]"
          ],
          "name": "stderr"
        },
        {
          "output_type": "stream",
          "text": [
            "E32 loss=[ 50.48, 48.78] acc=[74.72,76.46]\n"
          ],
          "name": "stdout"
        },
        {
          "output_type": "stream",
          "text": [
            "\r 85%|████████▌ | 34/40 [00:12<00:02,  2.63it/s]"
          ],
          "name": "stderr"
        },
        {
          "output_type": "stream",
          "text": [
            "E33 loss=[ 50.44, 48.04] acc=[74.83,77.44]\n"
          ],
          "name": "stdout"
        },
        {
          "output_type": "stream",
          "text": [
            "\r 88%|████████▊ | 35/40 [00:13<00:01,  2.65it/s]"
          ],
          "name": "stderr"
        },
        {
          "output_type": "stream",
          "text": [
            "E34 loss=[ 50.45, 48.20] acc=[74.77,77.15]\n"
          ],
          "name": "stdout"
        },
        {
          "output_type": "stream",
          "text": [
            "\r 90%|█████████ | 36/40 [00:13<00:01,  2.67it/s]"
          ],
          "name": "stderr"
        },
        {
          "output_type": "stream",
          "text": [
            "E35 loss=[ 50.41, 48.40] acc=[74.86,76.95]\n"
          ],
          "name": "stdout"
        },
        {
          "output_type": "stream",
          "text": [
            "\r 92%|█████████▎| 37/40 [00:13<00:01,  2.65it/s]"
          ],
          "name": "stderr"
        },
        {
          "output_type": "stream",
          "text": [
            "E36 loss=[ 50.44, 48.94] acc=[74.74,76.76]\n"
          ],
          "name": "stdout"
        },
        {
          "output_type": "stream",
          "text": [
            "\r 95%|█████████▌| 38/40 [00:14<00:00,  2.66it/s]"
          ],
          "name": "stderr"
        },
        {
          "output_type": "stream",
          "text": [
            "E37 loss=[ 50.42, 48.51] acc=[74.82,76.56]\n"
          ],
          "name": "stdout"
        },
        {
          "output_type": "stream",
          "text": [
            "\r 98%|█████████▊| 39/40 [00:14<00:00,  2.66it/s]"
          ],
          "name": "stderr"
        },
        {
          "output_type": "stream",
          "text": [
            "E38 loss=[ 50.49, 48.72] acc=[74.76,76.56]\n"
          ],
          "name": "stdout"
        },
        {
          "output_type": "stream",
          "text": [
            "100%|██████████| 40/40 [00:15<00:00,  2.66it/s]"
          ],
          "name": "stderr"
        },
        {
          "output_type": "stream",
          "text": [
            "E39 loss=[ 50.39, 48.09] acc=[74.77,77.05]\n"
          ],
          "name": "stdout"
        },
        {
          "output_type": "stream",
          "text": [
            "\n"
          ],
          "name": "stderr"
        }
      ]
    },
    {
      "cell_type": "code",
      "metadata": {
        "colab": {
          "base_uri": "https://localhost:8080/",
          "height": 280
        },
        "id": "moPiYlvilAP-",
        "outputId": "618f648c-f379-48d2-d289-35b8b998bc20"
      },
      "source": [
        "trn_loss, tst_loss = zip(*loss_hist)\n",
        "plt.plot(trn_loss, 'tab:orange', label='trn loss')\n",
        "plt.plot(tst_loss, 'tab:red', label='tst loss')\n",
        "plt.legend(loc='upper right')\n",
        "plt.xlabel('época')\n",
        "plt.ylabel('pérdida')\n",
        "plt.show()"
      ],
      "execution_count": 136,
      "outputs": [
        {
          "output_type": "display_data",
          "data": {
            "image/png": "[encoded data removed]",
            "text/plain": [
              "<Figure size 432x288 with 1 Axes>"
            ]
          },
          "metadata": {
            "tags": [],
            "needs_background": "light"
          }
        }
      ]
    },
    {
      "cell_type": "code",
      "metadata": {
        "colab": {
          "base_uri": "https://localhost:8080/",
          "height": 280
        },
        "id": "qzw1f3hmk_6U",
        "outputId": "268bce19-3612-4252-bfff-bafd197b1fb3"
      },
      "source": [
        "trn_acc_2_64, tst_acc_2_64 = zip(*acc_hist)\n",
        "plt.plot(trn_acc_2_64, 'tab:green', label='trn acc')\n",
        "plt.plot(tst_acc_2_64, 'tab:blue', label='tst acc')\n",
        "plt.legend(loc='lower right')\n",
        "plt.xlabel('época')\n",
        "plt.ylabel('exactitud')\n",
        "plt.show()"
      ],
      "execution_count": 137,
      "outputs": [
        {
          "output_type": "display_data",
          "data": {
            "image/png": "[encoded data removed]",
            "text/plain": [
              "<Figure size 432x288 with 1 Axes>"
            ]
          },
          "metadata": {
            "tags": [],
            "needs_background": "light"
          }
        }
      ]
    },
    {
      "cell_type": "code",
      "metadata": {
        "colab": {
          "base_uri": "https://localhost:8080/"
        },
        "id": "JKEjezFClmI5",
        "outputId": "2f6aac2f-a1ae-4cf8-fd78-c2e18b1baa46"
      },
      "source": [
        "model = FCN(capas=1,neuronas=4)\n",
        "loss_hist, acc_hist = train(model, trn_dl, tst_dl, lr=1e-2, epochs=40)"
      ],
      "execution_count": 145,
      "outputs": [
        {
          "output_type": "stream",
          "text": [
            "  2%|▎         | 1/40 [00:00<00:14,  2.64it/s]"
          ],
          "name": "stderr"
        },
        {
          "output_type": "stream",
          "text": [
            "E00 loss=[ 66.10, 66.43] acc=[63.62,63.96]\n"
          ],
          "name": "stdout"
        },
        {
          "output_type": "stream",
          "text": [
            "\r  5%|▌         | 2/40 [00:00<00:14,  2.63it/s]"
          ],
          "name": "stderr"
        },
        {
          "output_type": "stream",
          "text": [
            "E01 loss=[ 63.25, 63.86] acc=[64.20,64.75]\n"
          ],
          "name": "stdout"
        },
        {
          "output_type": "stream",
          "text": [
            "\r  8%|▊         | 3/40 [00:01<00:14,  2.61it/s]"
          ],
          "name": "stderr"
        },
        {
          "output_type": "stream",
          "text": [
            "E02 loss=[ 60.86, 61.62] acc=[65.33,65.62]\n"
          ],
          "name": "stdout"
        },
        {
          "output_type": "stream",
          "text": [
            "\r 10%|█         | 4/40 [00:01<00:13,  2.62it/s]"
          ],
          "name": "stderr"
        },
        {
          "output_type": "stream",
          "text": [
            "E03 loss=[ 58.74, 59.90] acc=[70.32,70.21]\n"
          ],
          "name": "stdout"
        },
        {
          "output_type": "stream",
          "text": [
            "\r 12%|█▎        | 5/40 [00:01<00:13,  2.59it/s]"
          ],
          "name": "stderr"
        },
        {
          "output_type": "stream",
          "text": [
            "E04 loss=[ 56.79, 57.83] acc=[72.80,73.73]\n"
          ],
          "name": "stdout"
        },
        {
          "output_type": "stream",
          "text": [
            "\r 15%|█▌        | 6/40 [00:02<00:13,  2.60it/s]"
          ],
          "name": "stderr"
        },
        {
          "output_type": "stream",
          "text": [
            "E05 loss=[ 54.63, 55.99] acc=[75.86,76.37]\n"
          ],
          "name": "stdout"
        },
        {
          "output_type": "stream",
          "text": [
            "\r 18%|█▊        | 7/40 [00:02<00:12,  2.61it/s]"
          ],
          "name": "stderr"
        },
        {
          "output_type": "stream",
          "text": [
            "E06 loss=[ 51.59, 52.36] acc=[79.56,80.18]\n"
          ],
          "name": "stdout"
        },
        {
          "output_type": "stream",
          "text": [
            "\r 20%|██        | 8/40 [00:03<00:12,  2.59it/s]"
          ],
          "name": "stderr"
        },
        {
          "output_type": "stream",
          "text": [
            "E07 loss=[ 47.37, 47.72] acc=[83.52,83.59]\n"
          ],
          "name": "stdout"
        },
        {
          "output_type": "stream",
          "text": [
            "\r 22%|██▎       | 9/40 [00:03<00:11,  2.60it/s]"
          ],
          "name": "stderr"
        },
        {
          "output_type": "stream",
          "text": [
            "E08 loss=[ 43.25, 44.04] acc=[86.34,85.84]\n"
          ],
          "name": "stdout"
        },
        {
          "output_type": "stream",
          "text": [
            "\r 25%|██▌       | 10/40 [00:03<00:11,  2.61it/s]"
          ],
          "name": "stderr"
        },
        {
          "output_type": "stream",
          "text": [
            "E09 loss=[ 39.79, 40.02] acc=[87.80,88.18]\n"
          ],
          "name": "stdout"
        },
        {
          "output_type": "stream",
          "text": [
            "\r 28%|██▊       | 11/40 [00:04<00:11,  2.59it/s]"
          ],
          "name": "stderr"
        },
        {
          "output_type": "stream",
          "text": [
            "E10 loss=[ 36.92, 37.13] acc=[88.94,88.67]\n"
          ],
          "name": "stdout"
        },
        {
          "output_type": "stream",
          "text": [
            "\r 30%|███       | 12/40 [00:04<00:10,  2.59it/s]"
          ],
          "name": "stderr"
        },
        {
          "output_type": "stream",
          "text": [
            "E11 loss=[ 34.54, 34.78] acc=[89.67,89.84]\n"
          ],
          "name": "stdout"
        },
        {
          "output_type": "stream",
          "text": [
            "\r 32%|███▎      | 13/40 [00:05<00:10,  2.59it/s]"
          ],
          "name": "stderr"
        },
        {
          "output_type": "stream",
          "text": [
            "E12 loss=[ 32.50, 32.86] acc=[90.45,91.02]\n"
          ],
          "name": "stdout"
        },
        {
          "output_type": "stream",
          "text": [
            "\r 35%|███▌      | 14/40 [00:05<00:10,  2.55it/s]"
          ],
          "name": "stderr"
        },
        {
          "output_type": "stream",
          "text": [
            "E13 loss=[ 30.75, 30.45] acc=[90.86,91.21]\n"
          ],
          "name": "stdout"
        },
        {
          "output_type": "stream",
          "text": [
            "\r 38%|███▊      | 15/40 [00:05<00:09,  2.55it/s]"
          ],
          "name": "stderr"
        },
        {
          "output_type": "stream",
          "text": [
            "E14 loss=[ 29.21, 29.34] acc=[91.32,91.50]\n"
          ],
          "name": "stdout"
        },
        {
          "output_type": "stream",
          "text": [
            "\r 40%|████      | 16/40 [00:06<00:09,  2.53it/s]"
          ],
          "name": "stderr"
        },
        {
          "output_type": "stream",
          "text": [
            "E15 loss=[ 27.83, 28.22] acc=[91.84,92.29]\n"
          ],
          "name": "stdout"
        },
        {
          "output_type": "stream",
          "text": [
            "\r 42%|████▎     | 17/40 [00:06<00:08,  2.56it/s]"
          ],
          "name": "stderr"
        },
        {
          "output_type": "stream",
          "text": [
            "E16 loss=[ 26.63, 26.90] acc=[92.20,92.87]\n"
          ],
          "name": "stdout"
        },
        {
          "output_type": "stream",
          "text": [
            "\r 45%|████▌     | 18/40 [00:06<00:08,  2.56it/s]"
          ],
          "name": "stderr"
        },
        {
          "output_type": "stream",
          "text": [
            "E17 loss=[ 25.57, 25.39] acc=[92.34,93.46]\n"
          ],
          "name": "stdout"
        },
        {
          "output_type": "stream",
          "text": [
            "\r 48%|████▊     | 19/40 [00:07<00:08,  2.56it/s]"
          ],
          "name": "stderr"
        },
        {
          "output_type": "stream",
          "text": [
            "E18 loss=[ 24.62, 24.73] acc=[92.76,93.46]\n"
          ],
          "name": "stdout"
        },
        {
          "output_type": "stream",
          "text": [
            "\r 50%|█████     | 20/40 [00:07<00:07,  2.58it/s]"
          ],
          "name": "stderr"
        },
        {
          "output_type": "stream",
          "text": [
            "E19 loss=[ 23.74, 23.90] acc=[92.69,93.16]\n"
          ],
          "name": "stdout"
        },
        {
          "output_type": "stream",
          "text": [
            "\r 52%|█████▎    | 21/40 [00:08<00:07,  2.59it/s]"
          ],
          "name": "stderr"
        },
        {
          "output_type": "stream",
          "text": [
            "E20 loss=[ 22.96, 22.73] acc=[93.02,93.46]\n"
          ],
          "name": "stdout"
        },
        {
          "output_type": "stream",
          "text": [
            "\r 55%|█████▌    | 22/40 [00:08<00:07,  2.56it/s]"
          ],
          "name": "stderr"
        },
        {
          "output_type": "stream",
          "text": [
            "E21 loss=[ 22.25, 22.93] acc=[93.41,93.36]\n"
          ],
          "name": "stdout"
        },
        {
          "output_type": "stream",
          "text": [
            "\r 57%|█████▊    | 23/40 [00:08<00:06,  2.57it/s]"
          ],
          "name": "stderr"
        },
        {
          "output_type": "stream",
          "text": [
            "E22 loss=[ 21.60, 21.87] acc=[93.22,93.55]\n"
          ],
          "name": "stdout"
        },
        {
          "output_type": "stream",
          "text": [
            "\r 60%|██████    | 24/40 [00:09<00:06,  2.57it/s]"
          ],
          "name": "stderr"
        },
        {
          "output_type": "stream",
          "text": [
            "E23 loss=[ 20.99, 21.22] acc=[93.49,93.55]\n"
          ],
          "name": "stdout"
        },
        {
          "output_type": "stream",
          "text": [
            "\r 62%|██████▎   | 25/40 [00:09<00:05,  2.54it/s]"
          ],
          "name": "stderr"
        },
        {
          "output_type": "stream",
          "text": [
            "E24 loss=[ 20.47, 20.33] acc=[93.87,93.95]\n"
          ],
          "name": "stdout"
        },
        {
          "output_type": "stream",
          "text": [
            "\r 65%|██████▌   | 26/40 [00:10<00:05,  2.55it/s]"
          ],
          "name": "stderr"
        },
        {
          "output_type": "stream",
          "text": [
            "E25 loss=[ 19.94, 20.14] acc=[93.81,93.65]\n"
          ],
          "name": "stdout"
        },
        {
          "output_type": "stream",
          "text": [
            "\r 68%|██████▊   | 27/40 [00:10<00:05,  2.56it/s]"
          ],
          "name": "stderr"
        },
        {
          "output_type": "stream",
          "text": [
            "E26 loss=[ 19.45, 19.69] acc=[93.69,93.55]\n"
          ],
          "name": "stdout"
        },
        {
          "output_type": "stream",
          "text": [
            "\r 70%|███████   | 28/40 [00:10<00:04,  2.54it/s]"
          ],
          "name": "stderr"
        },
        {
          "output_type": "stream",
          "text": [
            "E27 loss=[ 19.01, 19.18] acc=[94.18,94.14]\n"
          ],
          "name": "stdout"
        },
        {
          "output_type": "stream",
          "text": [
            "\r 72%|███████▎  | 29/40 [00:11<00:04,  2.56it/s]"
          ],
          "name": "stderr"
        },
        {
          "output_type": "stream",
          "text": [
            "E28 loss=[ 18.58, 18.83] acc=[93.90,93.85]\n"
          ],
          "name": "stdout"
        },
        {
          "output_type": "stream",
          "text": [
            "\r 75%|███████▌  | 30/40 [00:11<00:03,  2.57it/s]"
          ],
          "name": "stderr"
        },
        {
          "output_type": "stream",
          "text": [
            "E29 loss=[ 18.19, 18.47] acc=[94.19,94.14]\n"
          ],
          "name": "stdout"
        },
        {
          "output_type": "stream",
          "text": [
            "\r 78%|███████▊  | 31/40 [00:12<00:03,  2.53it/s]"
          ],
          "name": "stderr"
        },
        {
          "output_type": "stream",
          "text": [
            "E30 loss=[ 17.82, 18.01] acc=[94.45,94.24]\n"
          ],
          "name": "stdout"
        },
        {
          "output_type": "stream",
          "text": [
            "\r 80%|████████  | 32/40 [00:12<00:03,  2.55it/s]"
          ],
          "name": "stderr"
        },
        {
          "output_type": "stream",
          "text": [
            "E31 loss=[ 17.47, 17.61] acc=[94.49,94.34]\n"
          ],
          "name": "stdout"
        },
        {
          "output_type": "stream",
          "text": [
            "\r 82%|████████▎ | 33/40 [00:12<00:02,  2.57it/s]"
          ],
          "name": "stderr"
        },
        {
          "output_type": "stream",
          "text": [
            "E32 loss=[ 17.16, 17.35] acc=[94.31,94.24]\n"
          ],
          "name": "stdout"
        },
        {
          "output_type": "stream",
          "text": [
            "\r 85%|████████▌ | 34/40 [00:13<00:02,  2.53it/s]"
          ],
          "name": "stderr"
        },
        {
          "output_type": "stream",
          "text": [
            "E33 loss=[ 16.84, 17.25] acc=[94.72,94.53]\n"
          ],
          "name": "stdout"
        },
        {
          "output_type": "stream",
          "text": [
            "\r 88%|████████▊ | 35/40 [00:13<00:01,  2.54it/s]"
          ],
          "name": "stderr"
        },
        {
          "output_type": "stream",
          "text": [
            "E34 loss=[ 16.54, 17.10] acc=[94.60,94.14]\n"
          ],
          "name": "stdout"
        },
        {
          "output_type": "stream",
          "text": [
            "\r 90%|█████████ | 36/40 [00:14<00:01,  2.53it/s]"
          ],
          "name": "stderr"
        },
        {
          "output_type": "stream",
          "text": [
            "E35 loss=[ 16.26, 16.50] acc=[94.58,94.53]\n"
          ],
          "name": "stdout"
        },
        {
          "output_type": "stream",
          "text": [
            "\r 92%|█████████▎| 37/40 [00:14<00:01,  2.53it/s]"
          ],
          "name": "stderr"
        },
        {
          "output_type": "stream",
          "text": [
            "E36 loss=[ 16.02, 16.33] acc=[94.93,94.63]\n"
          ],
          "name": "stdout"
        },
        {
          "output_type": "stream",
          "text": [
            "\r 95%|█████████▌| 38/40 [00:14<00:00,  2.56it/s]"
          ],
          "name": "stderr"
        },
        {
          "output_type": "stream",
          "text": [
            "E37 loss=[ 15.75, 16.02] acc=[94.82,94.43]\n"
          ],
          "name": "stdout"
        },
        {
          "output_type": "stream",
          "text": [
            "\r 98%|█████████▊| 39/40 [00:15<00:00,  2.57it/s]"
          ],
          "name": "stderr"
        },
        {
          "output_type": "stream",
          "text": [
            "E38 loss=[ 15.53, 15.90] acc=[94.97,94.63]\n"
          ],
          "name": "stdout"
        },
        {
          "output_type": "stream",
          "text": [
            "100%|██████████| 40/40 [00:15<00:00,  2.57it/s]"
          ],
          "name": "stderr"
        },
        {
          "output_type": "stream",
          "text": [
            "E39 loss=[ 15.30, 15.68] acc=[95.16,94.82]\n"
          ],
          "name": "stdout"
        },
        {
          "output_type": "stream",
          "text": [
            "\n"
          ],
          "name": "stderr"
        }
      ]
    },
    {
      "cell_type": "code",
      "metadata": {
        "colab": {
          "base_uri": "https://localhost:8080/",
          "height": 280
        },
        "id": "AvGOvUVZltOv",
        "outputId": "0fc34769-eb9b-4652-d270-1acfd2c4159b"
      },
      "source": [
        "trn_loss, tst_loss = zip(*loss_hist)\n",
        "plt.plot(trn_loss, 'tab:orange', label='trn loss')\n",
        "plt.plot(tst_loss, 'tab:red', label='tst loss')\n",
        "plt.legend(loc='upper right')\n",
        "plt.xlabel('época')\n",
        "plt.ylabel('pérdida')\n",
        "plt.show()"
      ],
      "execution_count": 146,
      "outputs": [
        {
          "output_type": "display_data",
          "data": {
            "image/png": "[encoded data removed]",
            "text/plain": [
              "<Figure size 432x288 with 1 Axes>"
            ]
          },
          "metadata": {
            "tags": [],
            "needs_background": "light"
          }
        }
      ]
    },
    {
      "cell_type": "code",
      "metadata": {
        "colab": {
          "base_uri": "https://localhost:8080/",
          "height": 280
        },
        "id": "Kulhk5ldltCS",
        "outputId": "9e1775d0-1314-4717-9f64-4f440070a398"
      },
      "source": [
        "trn_acc_2_64, tst_acc_2_64 = zip(*acc_hist)\n",
        "plt.plot(trn_acc_2_64, 'tab:green', label='trn acc')\n",
        "plt.plot(tst_acc_2_64, 'tab:blue', label='tst acc')\n",
        "plt.legend(loc='lower right')\n",
        "plt.xlabel('época')\n",
        "plt.ylabel('exactitud')\n",
        "plt.show()"
      ],
      "execution_count": 147,
      "outputs": [
        {
          "output_type": "display_data",
          "data": {
            "image/png": "[encoded data removed]",
            "text/plain": [
              "<Figure size 432x288 with 1 Axes>"
            ]
          },
          "metadata": {
            "tags": [],
            "needs_background": "light"
          }
        }
      ]
    },
    {
      "cell_type": "markdown",
      "metadata": {
        "id": "BxD0VUuWmE09"
      },
      "source": [
        "## Dos capas"
      ]
    },
    {
      "cell_type": "code",
      "metadata": {
        "colab": {
          "base_uri": "https://localhost:8080/"
        },
        "id": "M1tK1YMKmAyr",
        "outputId": "60d85f85-0b02-4f1b-a5b2-9115de3d1750"
      },
      "source": [
        "model = FCN(capas=2,neuronas=1)\n",
        "loss_hist, acc_hist = train(model, trn_dl, tst_dl, lr=1e-2, epochs=40)"
      ],
      "execution_count": 148,
      "outputs": [
        {
          "output_type": "stream",
          "text": [
            "  2%|▎         | 1/40 [00:00<00:14,  2.72it/s]"
          ],
          "name": "stderr"
        },
        {
          "output_type": "stream",
          "text": [
            "E00 loss=[ 69.61, 69.80] acc=[50.42,49.32]\n"
          ],
          "name": "stdout"
        },
        {
          "output_type": "stream",
          "text": [
            "\r  5%|▌         | 2/40 [00:00<00:14,  2.70it/s]"
          ],
          "name": "stderr"
        },
        {
          "output_type": "stream",
          "text": [
            "E01 loss=[ 69.33, 69.37] acc=[50.39,49.61]\n"
          ],
          "name": "stdout"
        },
        {
          "output_type": "stream",
          "text": [
            "\r  8%|▊         | 3/40 [00:01<00:13,  2.67it/s]"
          ],
          "name": "stderr"
        },
        {
          "output_type": "stream",
          "text": [
            "E02 loss=[ 69.31, 69.32] acc=[50.38,50.20]\n"
          ],
          "name": "stdout"
        },
        {
          "output_type": "stream",
          "text": [
            "\r 10%|█         | 4/40 [00:01<00:13,  2.63it/s]"
          ],
          "name": "stderr"
        },
        {
          "output_type": "stream",
          "text": [
            "E03 loss=[ 69.31, 69.33] acc=[50.40,49.61]\n"
          ],
          "name": "stdout"
        },
        {
          "output_type": "stream",
          "text": [
            "\r 12%|█▎        | 5/40 [00:01<00:13,  2.67it/s]"
          ],
          "name": "stderr"
        },
        {
          "output_type": "stream",
          "text": [
            "E04 loss=[ 69.32, 69.31] acc=[49.63,50.68]\n"
          ],
          "name": "stdout"
        },
        {
          "output_type": "stream",
          "text": [
            "\r 15%|█▌        | 6/40 [00:02<00:12,  2.69it/s]"
          ],
          "name": "stderr"
        },
        {
          "output_type": "stream",
          "text": [
            "E05 loss=[ 69.31, 69.32] acc=[50.42,49.90]\n"
          ],
          "name": "stdout"
        },
        {
          "output_type": "stream",
          "text": [
            "\r 18%|█▊        | 7/40 [00:02<00:12,  2.67it/s]"
          ],
          "name": "stderr"
        },
        {
          "output_type": "stream",
          "text": [
            "E06 loss=[ 69.31, 69.32] acc=[50.40,49.90]\n"
          ],
          "name": "stdout"
        },
        {
          "output_type": "stream",
          "text": [
            "\r 20%|██        | 8/40 [00:02<00:11,  2.70it/s]"
          ],
          "name": "stderr"
        },
        {
          "output_type": "stream",
          "text": [
            "E07 loss=[ 69.31, 69.31] acc=[50.39,50.20]\n"
          ],
          "name": "stdout"
        },
        {
          "output_type": "stream",
          "text": [
            "\r 22%|██▎       | 9/40 [00:03<00:11,  2.70it/s]"
          ],
          "name": "stderr"
        },
        {
          "output_type": "stream",
          "text": [
            "E08 loss=[ 69.31, 69.31] acc=[50.39,50.78]\n"
          ],
          "name": "stdout"
        },
        {
          "output_type": "stream",
          "text": [
            "\r 25%|██▌       | 10/40 [00:03<00:11,  2.68it/s]"
          ],
          "name": "stderr"
        },
        {
          "output_type": "stream",
          "text": [
            "E09 loss=[ 69.31, 69.31] acc=[50.41,50.20]\n"
          ],
          "name": "stdout"
        },
        {
          "output_type": "stream",
          "text": [
            "\r 28%|██▊       | 11/40 [00:04<00:10,  2.70it/s]"
          ],
          "name": "stderr"
        },
        {
          "output_type": "stream",
          "text": [
            "E10 loss=[ 69.31, 69.32] acc=[50.37,49.61]\n"
          ],
          "name": "stdout"
        },
        {
          "output_type": "stream",
          "text": [
            "\r 30%|███       | 12/40 [00:04<00:10,  2.71it/s]"
          ],
          "name": "stderr"
        },
        {
          "output_type": "stream",
          "text": [
            "E11 loss=[ 69.31, 69.32] acc=[50.42,49.90]\n"
          ],
          "name": "stdout"
        },
        {
          "output_type": "stream",
          "text": [
            "\r 32%|███▎      | 13/40 [00:04<00:10,  2.69it/s]"
          ],
          "name": "stderr"
        },
        {
          "output_type": "stream",
          "text": [
            "E12 loss=[ 69.31, 69.32] acc=[50.41,49.61]\n"
          ],
          "name": "stdout"
        },
        {
          "output_type": "stream",
          "text": [
            "\r 35%|███▌      | 14/40 [00:05<00:09,  2.69it/s]"
          ],
          "name": "stderr"
        },
        {
          "output_type": "stream",
          "text": [
            "E13 loss=[ 69.31, 69.33] acc=[50.42,49.61]\n"
          ],
          "name": "stdout"
        },
        {
          "output_type": "stream",
          "text": [
            "\r 38%|███▊      | 15/40 [00:05<00:09,  2.69it/s]"
          ],
          "name": "stderr"
        },
        {
          "output_type": "stream",
          "text": [
            "E14 loss=[ 69.31, 69.33] acc=[50.42,49.90]\n"
          ],
          "name": "stdout"
        },
        {
          "output_type": "stream",
          "text": [
            "\r 40%|████      | 16/40 [00:05<00:08,  2.67it/s]"
          ],
          "name": "stderr"
        },
        {
          "output_type": "stream",
          "text": [
            "E15 loss=[ 69.31, 69.31] acc=[50.37,50.49]\n"
          ],
          "name": "stdout"
        },
        {
          "output_type": "stream",
          "text": [
            "\r 42%|████▎     | 17/40 [00:06<00:08,  2.65it/s]"
          ],
          "name": "stderr"
        },
        {
          "output_type": "stream",
          "text": [
            "E16 loss=[ 69.31, 69.33] acc=[50.41,49.90]\n"
          ],
          "name": "stdout"
        },
        {
          "output_type": "stream",
          "text": [
            "\r 45%|████▌     | 18/40 [00:06<00:08,  2.67it/s]"
          ],
          "name": "stderr"
        },
        {
          "output_type": "stream",
          "text": [
            "E17 loss=[ 69.31, 69.34] acc=[50.40,49.61]\n"
          ],
          "name": "stdout"
        },
        {
          "output_type": "stream",
          "text": [
            "\r 48%|████▊     | 19/40 [00:07<00:07,  2.65it/s]"
          ],
          "name": "stderr"
        },
        {
          "output_type": "stream",
          "text": [
            "E18 loss=[ 69.31, 69.33] acc=[50.40,49.32]\n"
          ],
          "name": "stdout"
        },
        {
          "output_type": "stream",
          "text": [
            "\r 50%|█████     | 20/40 [00:07<00:07,  2.61it/s]"
          ],
          "name": "stderr"
        },
        {
          "output_type": "stream",
          "text": [
            "E19 loss=[ 69.31, 69.34] acc=[50.43,49.61]\n"
          ],
          "name": "stdout"
        },
        {
          "output_type": "stream",
          "text": [
            "\r 52%|█████▎    | 21/40 [00:07<00:07,  2.64it/s]"
          ],
          "name": "stderr"
        },
        {
          "output_type": "stream",
          "text": [
            "E20 loss=[ 69.31, 69.32] acc=[50.39,49.61]\n"
          ],
          "name": "stdout"
        },
        {
          "output_type": "stream",
          "text": [
            "\r 55%|█████▌    | 22/40 [00:08<00:06,  2.65it/s]"
          ],
          "name": "stderr"
        },
        {
          "output_type": "stream",
          "text": [
            "E21 loss=[ 69.31, 69.32] acc=[50.40,49.90]\n"
          ],
          "name": "stdout"
        },
        {
          "output_type": "stream",
          "text": [
            "\r 57%|█████▊    | 23/40 [00:08<00:06,  2.65it/s]"
          ],
          "name": "stderr"
        },
        {
          "output_type": "stream",
          "text": [
            "E22 loss=[ 69.31, 69.31] acc=[50.37,50.49]\n"
          ],
          "name": "stdout"
        },
        {
          "output_type": "stream",
          "text": [
            "\r 60%|██████    | 24/40 [00:08<00:05,  2.68it/s]"
          ],
          "name": "stderr"
        },
        {
          "output_type": "stream",
          "text": [
            "E23 loss=[ 69.31, 69.32] acc=[50.40,50.20]\n"
          ],
          "name": "stdout"
        },
        {
          "output_type": "stream",
          "text": [
            "\r 62%|██████▎   | 25/40 [00:09<00:05,  2.65it/s]"
          ],
          "name": "stderr"
        },
        {
          "output_type": "stream",
          "text": [
            "E24 loss=[ 69.31, 69.32] acc=[50.39,49.90]\n"
          ],
          "name": "stdout"
        },
        {
          "output_type": "stream",
          "text": [
            "\r 65%|██████▌   | 26/40 [00:09<00:05,  2.66it/s]"
          ],
          "name": "stderr"
        },
        {
          "output_type": "stream",
          "text": [
            "E25 loss=[ 69.31, 69.32] acc=[50.39,49.61]\n"
          ],
          "name": "stdout"
        },
        {
          "output_type": "stream",
          "text": [
            "\r 68%|██████▊   | 27/40 [00:10<00:04,  2.67it/s]"
          ],
          "name": "stderr"
        },
        {
          "output_type": "stream",
          "text": [
            "E26 loss=[ 69.31, 69.33] acc=[50.40,49.61]\n"
          ],
          "name": "stdout"
        },
        {
          "output_type": "stream",
          "text": [
            "\r 70%|███████   | 28/40 [00:10<00:04,  2.64it/s]"
          ],
          "name": "stderr"
        },
        {
          "output_type": "stream",
          "text": [
            "E27 loss=[ 69.31, 69.31] acc=[50.38,50.20]\n"
          ],
          "name": "stdout"
        },
        {
          "output_type": "stream",
          "text": [
            "\r 72%|███████▎  | 29/40 [00:10<00:04,  2.68it/s]"
          ],
          "name": "stderr"
        },
        {
          "output_type": "stream",
          "text": [
            "E28 loss=[ 69.31, 69.32] acc=[50.41,50.20]\n"
          ],
          "name": "stdout"
        },
        {
          "output_type": "stream",
          "text": [
            "\r 75%|███████▌  | 30/40 [00:11<00:03,  2.71it/s]"
          ],
          "name": "stderr"
        },
        {
          "output_type": "stream",
          "text": [
            "E29 loss=[ 69.31, 69.31] acc=[50.36,50.20]\n"
          ],
          "name": "stdout"
        },
        {
          "output_type": "stream",
          "text": [
            "\r 78%|███████▊  | 31/40 [00:11<00:03,  2.65it/s]"
          ],
          "name": "stderr"
        },
        {
          "output_type": "stream",
          "text": [
            "E30 loss=[ 69.31, 69.32] acc=[50.38,50.20]\n"
          ],
          "name": "stdout"
        },
        {
          "output_type": "stream",
          "text": [
            "\r 80%|████████  | 32/40 [00:11<00:02,  2.68it/s]"
          ],
          "name": "stderr"
        },
        {
          "output_type": "stream",
          "text": [
            "E31 loss=[ 69.31, 69.32] acc=[50.41,49.90]\n"
          ],
          "name": "stdout"
        },
        {
          "output_type": "stream",
          "text": [
            "\r 82%|████████▎ | 33/40 [00:12<00:02,  2.69it/s]"
          ],
          "name": "stderr"
        },
        {
          "output_type": "stream",
          "text": [
            "E32 loss=[ 69.31, 69.32] acc=[50.39,49.90]\n"
          ],
          "name": "stdout"
        },
        {
          "output_type": "stream",
          "text": [
            "\r 85%|████████▌ | 34/40 [00:12<00:02,  2.69it/s]"
          ],
          "name": "stderr"
        },
        {
          "output_type": "stream",
          "text": [
            "E33 loss=[ 69.31, 69.34] acc=[50.42,49.61]\n"
          ],
          "name": "stdout"
        },
        {
          "output_type": "stream",
          "text": [
            "\r 88%|████████▊ | 35/40 [00:13<00:01,  2.72it/s]"
          ],
          "name": "stderr"
        },
        {
          "output_type": "stream",
          "text": [
            "E34 loss=[ 69.31, 69.31] acc=[50.37,50.20]\n"
          ],
          "name": "stdout"
        },
        {
          "output_type": "stream",
          "text": [
            "\r 90%|█████████ | 36/40 [00:13<00:01,  2.72it/s]"
          ],
          "name": "stderr"
        },
        {
          "output_type": "stream",
          "text": [
            "E35 loss=[ 69.32, 69.31] acc=[49.59,50.10]\n"
          ],
          "name": "stdout"
        },
        {
          "output_type": "stream",
          "text": [
            "\r 92%|█████████▎| 37/40 [00:13<00:01,  2.70it/s]"
          ],
          "name": "stderr"
        },
        {
          "output_type": "stream",
          "text": [
            "E36 loss=[ 69.31, 69.31] acc=[50.40,50.49]\n"
          ],
          "name": "stdout"
        },
        {
          "output_type": "stream",
          "text": [
            "\r 95%|█████████▌| 38/40 [00:14<00:00,  2.72it/s]"
          ],
          "name": "stderr"
        },
        {
          "output_type": "stream",
          "text": [
            "E37 loss=[ 69.31, 69.32] acc=[50.44,49.90]\n"
          ],
          "name": "stdout"
        },
        {
          "output_type": "stream",
          "text": [
            "\r 98%|█████████▊| 39/40 [00:14<00:00,  2.67it/s]"
          ],
          "name": "stderr"
        },
        {
          "output_type": "stream",
          "text": [
            "E38 loss=[ 69.31, 69.32] acc=[50.37,49.90]\n"
          ],
          "name": "stdout"
        },
        {
          "output_type": "stream",
          "text": [
            "100%|██████████| 40/40 [00:14<00:00,  2.68it/s]"
          ],
          "name": "stderr"
        },
        {
          "output_type": "stream",
          "text": [
            "E39 loss=[ 69.31, 69.33] acc=[50.39,49.32]\n"
          ],
          "name": "stdout"
        },
        {
          "output_type": "stream",
          "text": [
            "\n"
          ],
          "name": "stderr"
        }
      ]
    },
    {
      "cell_type": "code",
      "metadata": {
        "colab": {
          "base_uri": "https://localhost:8080/",
          "height": 280
        },
        "id": "smTYyb--mAra",
        "outputId": "534f9461-3be5-480b-ab7b-379e32af5801"
      },
      "source": [
        "trn_loss, tst_loss = zip(*loss_hist)\n",
        "plt.plot(trn_loss, 'tab:orange', label='trn loss')\n",
        "plt.plot(tst_loss, 'tab:red', label='tst loss')\n",
        "plt.legend(loc='upper right')\n",
        "plt.xlabel('época')\n",
        "plt.ylabel('pérdida')\n",
        "plt.show()"
      ],
      "execution_count": 149,
      "outputs": [
        {
          "output_type": "display_data",
          "data": {
            "image/png": "[encoded data removed]",
            "text/plain": [
              "<Figure size 432x288 with 1 Axes>"
            ]
          },
          "metadata": {
            "tags": [],
            "needs_background": "light"
          }
        }
      ]
    },
    {
      "cell_type": "code",
      "metadata": {
        "colab": {
          "base_uri": "https://localhost:8080/",
          "height": 280
        },
        "id": "SZi_Dq6EmAih",
        "outputId": "3dccbbb1-31bd-42ac-9062-aa1e27554407"
      },
      "source": [
        "trn_acc_2_64, tst_acc_2_64 = zip(*acc_hist)\n",
        "plt.plot(trn_acc_2_64, 'tab:green', label='trn acc')\n",
        "plt.plot(tst_acc_2_64, 'tab:blue', label='tst acc')\n",
        "plt.legend(loc='lower right')\n",
        "plt.xlabel('época')\n",
        "plt.ylabel('exactitud')\n",
        "plt.show()"
      ],
      "execution_count": 150,
      "outputs": [
        {
          "output_type": "display_data",
          "data": {
            "image/png": "[encoded data removed]",
            "text/plain": [
              "<Figure size 432x288 with 1 Axes>"
            ]
          },
          "metadata": {
            "tags": [],
            "needs_background": "light"
          }
        }
      ]
    },
    {
      "cell_type": "code",
      "metadata": {
        "colab": {
          "base_uri": "https://localhost:8080/"
        },
        "id": "kx87bZYzLyRH",
        "outputId": "afe0caa4-c441-486c-b522-27236a625bf3"
      },
      "source": [
        "model = FCN(capas=2,neuronas=2)\n",
        "loss_hist, acc_hist = train(model, trn_dl, tst_dl, lr=1e-2, epochs=40)"
      ],
      "execution_count": 138,
      "outputs": [
        {
          "output_type": "stream",
          "text": [
            "  2%|▎         | 1/40 [00:00<00:16,  2.38it/s]"
          ],
          "name": "stderr"
        },
        {
          "output_type": "stream",
          "text": [
            "E00 loss=[ 67.83, 67.89] acc=[65.56,66.60]\n"
          ],
          "name": "stdout"
        },
        {
          "output_type": "stream",
          "text": [
            "\r  5%|▌         | 2/40 [00:00<00:16,  2.35it/s]"
          ],
          "name": "stderr"
        },
        {
          "output_type": "stream",
          "text": [
            "E01 loss=[ 66.42, 66.42] acc=[68.92,69.63]\n"
          ],
          "name": "stdout"
        },
        {
          "output_type": "stream",
          "text": [
            "\r  8%|▊         | 3/40 [00:01<00:15,  2.33it/s]"
          ],
          "name": "stderr"
        },
        {
          "output_type": "stream",
          "text": [
            "E02 loss=[ 64.02, 63.99] acc=[71.11,71.58]\n"
          ],
          "name": "stdout"
        },
        {
          "output_type": "stream",
          "text": [
            "\r 10%|█         | 4/40 [00:01<00:15,  2.33it/s]"
          ],
          "name": "stderr"
        },
        {
          "output_type": "stream",
          "text": [
            "E03 loss=[ 60.47, 60.09] acc=[73.43,74.90]\n"
          ],
          "name": "stdout"
        },
        {
          "output_type": "stream",
          "text": [
            "\r 12%|█▎        | 5/40 [00:02<00:15,  2.31it/s]"
          ],
          "name": "stderr"
        },
        {
          "output_type": "stream",
          "text": [
            "E04 loss=[ 56.52, 55.92] acc=[74.54,76.86]\n"
          ],
          "name": "stdout"
        },
        {
          "output_type": "stream",
          "text": [
            "\r 15%|█▌        | 6/40 [00:02<00:14,  2.33it/s]"
          ],
          "name": "stderr"
        },
        {
          "output_type": "stream",
          "text": [
            "E05 loss=[ 53.78, 52.68] acc=[74.76,76.95]\n"
          ],
          "name": "stdout"
        },
        {
          "output_type": "stream",
          "text": [
            "\r 18%|█▊        | 7/40 [00:03<00:14,  2.33it/s]"
          ],
          "name": "stderr"
        },
        {
          "output_type": "stream",
          "text": [
            "E06 loss=[ 52.29, 50.94] acc=[74.77,76.56]\n"
          ],
          "name": "stdout"
        },
        {
          "output_type": "stream",
          "text": [
            "\r 20%|██        | 8/40 [00:03<00:13,  2.32it/s]"
          ],
          "name": "stderr"
        },
        {
          "output_type": "stream",
          "text": [
            "E07 loss=[ 51.51, 50.16] acc=[74.73,76.27]\n"
          ],
          "name": "stdout"
        },
        {
          "output_type": "stream",
          "text": [
            "\r 22%|██▎       | 9/40 [00:03<00:13,  2.31it/s]"
          ],
          "name": "stderr"
        },
        {
          "output_type": "stream",
          "text": [
            "E08 loss=[ 51.05, 49.18] acc=[74.89,77.73]\n"
          ],
          "name": "stdout"
        },
        {
          "output_type": "stream",
          "text": [
            "\r 25%|██▌       | 10/40 [00:04<00:12,  2.31it/s]"
          ],
          "name": "stderr"
        },
        {
          "output_type": "stream",
          "text": [
            "E09 loss=[ 50.81, 49.96] acc=[74.80,75.78]\n"
          ],
          "name": "stdout"
        },
        {
          "output_type": "stream",
          "text": [
            "\r 28%|██▊       | 11/40 [00:04<00:12,  2.28it/s]"
          ],
          "name": "stderr"
        },
        {
          "output_type": "stream",
          "text": [
            "E10 loss=[ 50.65, 49.17] acc=[74.73,76.66]\n"
          ],
          "name": "stdout"
        },
        {
          "output_type": "stream",
          "text": [
            "\r 30%|███       | 12/40 [00:05<00:12,  2.29it/s]"
          ],
          "name": "stderr"
        },
        {
          "output_type": "stream",
          "text": [
            "E11 loss=[ 50.56, 48.95] acc=[74.75,76.66]\n"
          ],
          "name": "stdout"
        },
        {
          "output_type": "stream",
          "text": [
            "\r 32%|███▎      | 13/40 [00:05<00:11,  2.30it/s]"
          ],
          "name": "stderr"
        },
        {
          "output_type": "stream",
          "text": [
            "E12 loss=[ 50.53, 49.57] acc=[74.83,76.66]\n"
          ],
          "name": "stdout"
        },
        {
          "output_type": "stream",
          "text": [
            "\r 35%|███▌      | 14/40 [00:06<00:11,  2.28it/s]"
          ],
          "name": "stderr"
        },
        {
          "output_type": "stream",
          "text": [
            "E13 loss=[ 50.44, 48.50] acc=[74.74,77.44]\n"
          ],
          "name": "stdout"
        },
        {
          "output_type": "stream",
          "text": [
            "\r 38%|███▊      | 15/40 [00:06<00:10,  2.29it/s]"
          ],
          "name": "stderr"
        },
        {
          "output_type": "stream",
          "text": [
            "E14 loss=[ 50.37, 48.29] acc=[74.87,77.25]\n"
          ],
          "name": "stdout"
        },
        {
          "output_type": "stream",
          "text": [
            "\r 40%|████      | 16/40 [00:06<00:10,  2.29it/s]"
          ],
          "name": "stderr"
        },
        {
          "output_type": "stream",
          "text": [
            "E15 loss=[ 50.34, 48.12] acc=[74.79,77.34]\n"
          ],
          "name": "stdout"
        },
        {
          "output_type": "stream",
          "text": [
            "\r 42%|████▎     | 17/40 [00:07<00:10,  2.29it/s]"
          ],
          "name": "stderr"
        },
        {
          "output_type": "stream",
          "text": [
            "E16 loss=[ 50.29, 48.26] acc=[74.76,76.76]\n"
          ],
          "name": "stdout"
        },
        {
          "output_type": "stream",
          "text": [
            "\r 45%|████▌     | 18/40 [00:07<00:09,  2.28it/s]"
          ],
          "name": "stderr"
        },
        {
          "output_type": "stream",
          "text": [
            "E17 loss=[ 50.27, 48.30] acc=[74.85,76.86]\n"
          ],
          "name": "stdout"
        },
        {
          "output_type": "stream",
          "text": [
            "\r 48%|████▊     | 19/40 [00:08<00:09,  2.30it/s]"
          ],
          "name": "stderr"
        },
        {
          "output_type": "stream",
          "text": [
            "E18 loss=[ 50.25, 48.68] acc=[74.78,76.17]\n"
          ],
          "name": "stdout"
        },
        {
          "output_type": "stream",
          "text": [
            "\r 50%|█████     | 20/40 [00:08<00:08,  2.30it/s]"
          ],
          "name": "stderr"
        },
        {
          "output_type": "stream",
          "text": [
            "E19 loss=[ 50.26, 48.68] acc=[74.69,76.56]\n"
          ],
          "name": "stdout"
        },
        {
          "output_type": "stream",
          "text": [
            "\r 52%|█████▎    | 21/40 [00:09<00:08,  2.31it/s]"
          ],
          "name": "stderr"
        },
        {
          "output_type": "stream",
          "text": [
            "E20 loss=[ 50.26, 48.94] acc=[74.82,76.27]\n"
          ],
          "name": "stdout"
        },
        {
          "output_type": "stream",
          "text": [
            "\r 55%|█████▌    | 22/40 [00:09<00:07,  2.32it/s]"
          ],
          "name": "stderr"
        },
        {
          "output_type": "stream",
          "text": [
            "E21 loss=[ 50.20, 48.02] acc=[74.86,77.05]\n"
          ],
          "name": "stdout"
        },
        {
          "output_type": "stream",
          "text": [
            "\r 57%|█████▊    | 23/40 [00:09<00:07,  2.32it/s]"
          ],
          "name": "stderr"
        },
        {
          "output_type": "stream",
          "text": [
            "E22 loss=[ 50.23, 48.27] acc=[74.78,76.86]\n"
          ],
          "name": "stdout"
        },
        {
          "output_type": "stream",
          "text": [
            "\r 60%|██████    | 24/40 [00:10<00:06,  2.32it/s]"
          ],
          "name": "stderr"
        },
        {
          "output_type": "stream",
          "text": [
            "E23 loss=[ 50.21, 47.97] acc=[74.77,77.05]\n"
          ],
          "name": "stdout"
        },
        {
          "output_type": "stream",
          "text": [
            "\r 62%|██████▎   | 25/40 [00:10<00:06,  2.32it/s]"
          ],
          "name": "stderr"
        },
        {
          "output_type": "stream",
          "text": [
            "E24 loss=[ 50.20, 48.32] acc=[74.83,76.66]\n"
          ],
          "name": "stdout"
        },
        {
          "output_type": "stream",
          "text": [
            "\r 65%|██████▌   | 26/40 [00:11<00:06,  2.28it/s]"
          ],
          "name": "stderr"
        },
        {
          "output_type": "stream",
          "text": [
            "E25 loss=[ 50.25, 47.93] acc=[74.72,76.95]\n"
          ],
          "name": "stdout"
        },
        {
          "output_type": "stream",
          "text": [
            "\r 68%|██████▊   | 27/40 [00:11<00:05,  2.29it/s]"
          ],
          "name": "stderr"
        },
        {
          "output_type": "stream",
          "text": [
            "E26 loss=[ 50.19, 48.24] acc=[74.79,76.27]\n"
          ],
          "name": "stdout"
        },
        {
          "output_type": "stream",
          "text": [
            "\r 70%|███████   | 28/40 [00:12<00:05,  2.29it/s]"
          ],
          "name": "stderr"
        },
        {
          "output_type": "stream",
          "text": [
            "E27 loss=[ 50.24, 48.35] acc=[74.65,76.76]\n"
          ],
          "name": "stdout"
        },
        {
          "output_type": "stream",
          "text": [
            "\r 72%|███████▎  | 29/40 [00:12<00:04,  2.28it/s]"
          ],
          "name": "stderr"
        },
        {
          "output_type": "stream",
          "text": [
            "E28 loss=[ 50.26, 48.77] acc=[74.86,76.76]\n"
          ],
          "name": "stdout"
        },
        {
          "output_type": "stream",
          "text": [
            "\r 75%|███████▌  | 30/40 [00:13<00:04,  2.29it/s]"
          ],
          "name": "stderr"
        },
        {
          "output_type": "stream",
          "text": [
            "E29 loss=[ 50.26, 48.08] acc=[74.95,77.25]\n"
          ],
          "name": "stdout"
        },
        {
          "output_type": "stream",
          "text": [
            "\r 78%|███████▊  | 31/40 [00:13<00:03,  2.30it/s]"
          ],
          "name": "stderr"
        },
        {
          "output_type": "stream",
          "text": [
            "E30 loss=[ 50.24, 47.86] acc=[74.75,77.15]\n"
          ],
          "name": "stdout"
        },
        {
          "output_type": "stream",
          "text": [
            "\r 80%|████████  | 32/40 [00:13<00:03,  2.27it/s]"
          ],
          "name": "stderr"
        },
        {
          "output_type": "stream",
          "text": [
            "E31 loss=[ 50.24, 47.69] acc=[74.70,77.05]\n"
          ],
          "name": "stdout"
        },
        {
          "output_type": "stream",
          "text": [
            "\r 82%|████████▎ | 33/40 [00:14<00:03,  2.28it/s]"
          ],
          "name": "stderr"
        },
        {
          "output_type": "stream",
          "text": [
            "E32 loss=[ 50.24, 48.36] acc=[74.69,77.05]\n"
          ],
          "name": "stdout"
        },
        {
          "output_type": "stream",
          "text": [
            "\r 85%|████████▌ | 34/40 [00:14<00:02,  2.30it/s]"
          ],
          "name": "stderr"
        },
        {
          "output_type": "stream",
          "text": [
            "E33 loss=[ 50.22, 48.12] acc=[74.81,77.05]\n"
          ],
          "name": "stdout"
        },
        {
          "output_type": "stream",
          "text": [
            "\r 88%|████████▊ | 35/40 [00:15<00:02,  2.28it/s]"
          ],
          "name": "stderr"
        },
        {
          "output_type": "stream",
          "text": [
            "E34 loss=[ 50.23, 47.76] acc=[74.81,76.95]\n"
          ],
          "name": "stdout"
        },
        {
          "output_type": "stream",
          "text": [
            "\r 90%|█████████ | 36/40 [00:15<00:01,  2.30it/s]"
          ],
          "name": "stderr"
        },
        {
          "output_type": "stream",
          "text": [
            "E35 loss=[ 50.21, 48.15] acc=[74.80,76.95]\n"
          ],
          "name": "stdout"
        },
        {
          "output_type": "stream",
          "text": [
            "\r 92%|█████████▎| 37/40 [00:16<00:01,  2.31it/s]"
          ],
          "name": "stderr"
        },
        {
          "output_type": "stream",
          "text": [
            "E36 loss=[ 50.30, 47.83] acc=[74.87,77.44]\n"
          ],
          "name": "stdout"
        },
        {
          "output_type": "stream",
          "text": [
            "\r 95%|█████████▌| 38/40 [00:16<00:00,  2.30it/s]"
          ],
          "name": "stderr"
        },
        {
          "output_type": "stream",
          "text": [
            "E37 loss=[ 50.21, 48.33] acc=[74.79,76.76]\n"
          ],
          "name": "stdout"
        },
        {
          "output_type": "stream",
          "text": [
            "\r 98%|█████████▊| 39/40 [00:16<00:00,  2.32it/s]"
          ],
          "name": "stderr"
        },
        {
          "output_type": "stream",
          "text": [
            "E38 loss=[ 50.20, 48.00] acc=[74.81,76.86]\n"
          ],
          "name": "stdout"
        },
        {
          "output_type": "stream",
          "text": [
            "100%|██████████| 40/40 [00:17<00:00,  2.30it/s]"
          ],
          "name": "stderr"
        },
        {
          "output_type": "stream",
          "text": [
            "E39 loss=[ 50.19, 48.06] acc=[74.77,76.76]\n"
          ],
          "name": "stdout"
        },
        {
          "output_type": "stream",
          "text": [
            "\n"
          ],
          "name": "stderr"
        }
      ]
    },
    {
      "cell_type": "code",
      "metadata": {
        "colab": {
          "base_uri": "https://localhost:8080/",
          "height": 280
        },
        "id": "pdiUZD-3j4_h",
        "outputId": "cbb3ce66-de7d-408e-f109-2708f018ef03"
      },
      "source": [
        "trn_loss, tst_loss = zip(*loss_hist)\n",
        "plt.plot(trn_loss, 'tab:orange', label='trn loss')\n",
        "plt.plot(tst_loss, 'tab:red', label='tst loss')\n",
        "plt.legend(loc='upper right')\n",
        "plt.xlabel('época')\n",
        "plt.ylabel('pérdida')\n",
        "plt.show()"
      ],
      "execution_count": 139,
      "outputs": [
        {
          "output_type": "display_data",
          "data": {
            "image/png": "[encoded data removed]",
            "text/plain": [
              "<Figure size 432x288 with 1 Axes>"
            ]
          },
          "metadata": {
            "tags": [],
            "needs_background": "light"
          }
        }
      ]
    },
    {
      "cell_type": "code",
      "metadata": {
        "colab": {
          "base_uri": "https://localhost:8080/",
          "height": 280
        },
        "id": "DOmFVe-nkGVF",
        "outputId": "9a36fa06-34a1-4529-cb40-95d6b3f8b7c2"
      },
      "source": [
        "trn_acc_2_64, tst_acc_2_64 = zip(*acc_hist)\n",
        "plt.plot(trn_acc_2_64, 'tab:green', label='trn acc')\n",
        "plt.plot(tst_acc_2_64, 'tab:blue', label='tst acc')\n",
        "plt.legend(loc='lower right')\n",
        "plt.xlabel('época')\n",
        "plt.ylabel('exactitud')\n",
        "plt.show()"
      ],
      "execution_count": 140,
      "outputs": [
        {
          "output_type": "display_data",
          "data": {
            "image/png": "[encoded data removed]",
            "text/plain": [
              "<Figure size 432x288 with 1 Axes>"
            ]
          },
          "metadata": {
            "tags": [],
            "needs_background": "light"
          }
        }
      ]
    },
    {
      "cell_type": "code",
      "metadata": {
        "colab": {
          "base_uri": "https://localhost:8080/"
        },
        "id": "HNOp3WyhlP4z",
        "outputId": "95452aa7-c9f5-416c-fc81-5dc7bdcae0c9"
      },
      "source": [
        "model = FCN(capas=2,neuronas=4)\n",
        "loss_hist, acc_hist = train(model, trn_dl, tst_dl, lr=1e-2, epochs=40)"
      ],
      "execution_count": 141,
      "outputs": [
        {
          "output_type": "stream",
          "text": [
            "  2%|▎         | 1/40 [00:00<00:20,  1.94it/s]"
          ],
          "name": "stderr"
        },
        {
          "output_type": "stream",
          "text": [
            "E00 loss=[ 68.37, 68.45] acc=[56.75,55.76]\n"
          ],
          "name": "stdout"
        },
        {
          "output_type": "stream",
          "text": [
            "\r  5%|▌         | 2/40 [00:00<00:18,  2.02it/s]"
          ],
          "name": "stderr"
        },
        {
          "output_type": "stream",
          "text": [
            "E01 loss=[ 67.14, 67.30] acc=[58.91,59.08]\n"
          ],
          "name": "stdout"
        },
        {
          "output_type": "stream",
          "text": [
            "\r  8%|▊         | 3/40 [00:01<00:17,  2.09it/s]"
          ],
          "name": "stderr"
        },
        {
          "output_type": "stream",
          "text": [
            "E02 loss=[ 65.36, 65.51] acc=[74.50,77.05]\n"
          ],
          "name": "stdout"
        },
        {
          "output_type": "stream",
          "text": [
            "\r 10%|█         | 4/40 [00:01<00:16,  2.12it/s]"
          ],
          "name": "stderr"
        },
        {
          "output_type": "stream",
          "text": [
            "E03 loss=[ 62.78, 62.77] acc=[63.70,64.75]\n"
          ],
          "name": "stdout"
        },
        {
          "output_type": "stream",
          "text": [
            "\r 12%|█▎        | 5/40 [00:02<00:16,  2.18it/s]"
          ],
          "name": "stderr"
        },
        {
          "output_type": "stream",
          "text": [
            "E04 loss=[ 59.11, 58.86] acc=[76.82,79.69]\n"
          ],
          "name": "stdout"
        },
        {
          "output_type": "stream",
          "text": [
            "\r 15%|█▌        | 6/40 [00:02<00:15,  2.23it/s]"
          ],
          "name": "stderr"
        },
        {
          "output_type": "stream",
          "text": [
            "E05 loss=[ 53.91, 53.25] acc=[82.62,84.96]\n"
          ],
          "name": "stdout"
        },
        {
          "output_type": "stream",
          "text": [
            "\r 18%|█▊        | 7/40 [00:03<00:14,  2.23it/s]"
          ],
          "name": "stderr"
        },
        {
          "output_type": "stream",
          "text": [
            "E06 loss=[ 47.62, 47.21] acc=[86.66,87.99]\n"
          ],
          "name": "stdout"
        },
        {
          "output_type": "stream",
          "text": [
            "\r 20%|██        | 8/40 [00:03<00:14,  2.27it/s]"
          ],
          "name": "stderr"
        },
        {
          "output_type": "stream",
          "text": [
            "E07 loss=[ 41.00, 40.35] acc=[89.72,90.43]\n"
          ],
          "name": "stdout"
        },
        {
          "output_type": "stream",
          "text": [
            "\r 22%|██▎       | 9/40 [00:04<00:13,  2.27it/s]"
          ],
          "name": "stderr"
        },
        {
          "output_type": "stream",
          "text": [
            "E08 loss=[ 35.13, 34.11] acc=[91.76,92.09]\n"
          ],
          "name": "stdout"
        },
        {
          "output_type": "stream",
          "text": [
            "\r 25%|██▌       | 10/40 [00:04<00:13,  2.26it/s]"
          ],
          "name": "stderr"
        },
        {
          "output_type": "stream",
          "text": [
            "E09 loss=[ 30.47, 29.51] acc=[93.42,94.04]\n"
          ],
          "name": "stdout"
        },
        {
          "output_type": "stream",
          "text": [
            "\r 28%|██▊       | 11/40 [00:04<00:12,  2.27it/s]"
          ],
          "name": "stderr"
        },
        {
          "output_type": "stream",
          "text": [
            "E10 loss=[ 26.85, 26.80] acc=[94.47,94.04]\n"
          ],
          "name": "stdout"
        },
        {
          "output_type": "stream",
          "text": [
            "\r 30%|███       | 12/40 [00:05<00:12,  2.27it/s]"
          ],
          "name": "stderr"
        },
        {
          "output_type": "stream",
          "text": [
            "E11 loss=[ 24.07, 23.71] acc=[95.01,94.82]\n"
          ],
          "name": "stdout"
        },
        {
          "output_type": "stream",
          "text": [
            "\r 32%|███▎      | 13/40 [00:05<00:11,  2.28it/s]"
          ],
          "name": "stderr"
        },
        {
          "output_type": "stream",
          "text": [
            "E12 loss=[ 21.89, 21.45] acc=[95.25,95.02]\n"
          ],
          "name": "stdout"
        },
        {
          "output_type": "stream",
          "text": [
            "\r 35%|███▌      | 14/40 [00:06<00:11,  2.27it/s]"
          ],
          "name": "stderr"
        },
        {
          "output_type": "stream",
          "text": [
            "E13 loss=[ 20.14, 19.60] acc=[95.49,95.90]\n"
          ],
          "name": "stdout"
        },
        {
          "output_type": "stream",
          "text": [
            "\r 38%|███▊      | 15/40 [00:06<00:10,  2.28it/s]"
          ],
          "name": "stderr"
        },
        {
          "output_type": "stream",
          "text": [
            "E14 loss=[ 18.70, 18.04] acc=[95.63,95.90]\n"
          ],
          "name": "stdout"
        },
        {
          "output_type": "stream",
          "text": [
            "\r 40%|████      | 16/40 [00:07<00:10,  2.27it/s]"
          ],
          "name": "stderr"
        },
        {
          "output_type": "stream",
          "text": [
            "E15 loss=[ 17.54, 17.96] acc=[96.13,96.19]\n"
          ],
          "name": "stdout"
        },
        {
          "output_type": "stream",
          "text": [
            "\r 42%|████▎     | 17/40 [00:07<00:10,  2.29it/s]"
          ],
          "name": "stderr"
        },
        {
          "output_type": "stream",
          "text": [
            "E16 loss=[ 16.60, 16.12] acc=[95.68,96.00]\n"
          ],
          "name": "stdout"
        },
        {
          "output_type": "stream",
          "text": [
            "\r 45%|████▌     | 18/40 [00:07<00:09,  2.29it/s]"
          ],
          "name": "stderr"
        },
        {
          "output_type": "stream",
          "text": [
            "E17 loss=[ 15.78, 15.22] acc=[95.92,96.29]\n"
          ],
          "name": "stdout"
        },
        {
          "output_type": "stream",
          "text": [
            "\r 48%|████▊     | 19/40 [00:08<00:09,  2.30it/s]"
          ],
          "name": "stderr"
        },
        {
          "output_type": "stream",
          "text": [
            "E18 loss=[ 14.93, 14.19] acc=[96.59,97.27]\n"
          ],
          "name": "stdout"
        },
        {
          "output_type": "stream",
          "text": [
            "\r 50%|█████     | 20/40 [00:08<00:08,  2.30it/s]"
          ],
          "name": "stderr"
        },
        {
          "output_type": "stream",
          "text": [
            "E19 loss=[ 14.39, 14.00] acc=[96.36,97.07]\n"
          ],
          "name": "stdout"
        },
        {
          "output_type": "stream",
          "text": [
            "\r 52%|█████▎    | 21/40 [00:09<00:08,  2.30it/s]"
          ],
          "name": "stderr"
        },
        {
          "output_type": "stream",
          "text": [
            "E20 loss=[ 13.71, 13.35] acc=[97.02,97.46]\n"
          ],
          "name": "stdout"
        },
        {
          "output_type": "stream",
          "text": [
            "\r 55%|█████▌    | 22/40 [00:09<00:07,  2.25it/s]"
          ],
          "name": "stderr"
        },
        {
          "output_type": "stream",
          "text": [
            "E21 loss=[ 13.14, 12.75] acc=[96.87,97.56]\n"
          ],
          "name": "stdout"
        },
        {
          "output_type": "stream",
          "text": [
            "\r 57%|█████▊    | 23/40 [00:10<00:07,  2.27it/s]"
          ],
          "name": "stderr"
        },
        {
          "output_type": "stream",
          "text": [
            "E22 loss=[ 12.70, 12.48] acc=[97.02,97.36]\n"
          ],
          "name": "stdout"
        },
        {
          "output_type": "stream",
          "text": [
            "\r 60%|██████    | 24/40 [00:10<00:07,  2.27it/s]"
          ],
          "name": "stderr"
        },
        {
          "output_type": "stream",
          "text": [
            "E23 loss=[ 12.22, 11.90] acc=[97.12,97.75]\n"
          ],
          "name": "stdout"
        },
        {
          "output_type": "stream",
          "text": [
            "\r 62%|██████▎   | 25/40 [00:11<00:06,  2.29it/s]"
          ],
          "name": "stderr"
        },
        {
          "output_type": "stream",
          "text": [
            "E24 loss=[ 11.84, 11.81] acc=[97.23,97.85]\n"
          ],
          "name": "stdout"
        },
        {
          "output_type": "stream",
          "text": [
            "\r 65%|██████▌   | 26/40 [00:11<00:06,  2.30it/s]"
          ],
          "name": "stderr"
        },
        {
          "output_type": "stream",
          "text": [
            "E25 loss=[ 12.07, 11.74] acc=[96.36,96.29]\n"
          ],
          "name": "stdout"
        },
        {
          "output_type": "stream",
          "text": [
            "\r 68%|██████▊   | 27/40 [00:11<00:05,  2.29it/s]"
          ],
          "name": "stderr"
        },
        {
          "output_type": "stream",
          "text": [
            "E26 loss=[ 11.08, 10.85] acc=[97.45,98.05]\n"
          ],
          "name": "stdout"
        },
        {
          "output_type": "stream",
          "text": [
            "\r 70%|███████   | 28/40 [00:12<00:05,  2.28it/s]"
          ],
          "name": "stderr"
        },
        {
          "output_type": "stream",
          "text": [
            "E27 loss=[ 11.12, 11.15] acc=[97.03,96.58]\n"
          ],
          "name": "stdout"
        },
        {
          "output_type": "stream",
          "text": [
            "\r 72%|███████▎  | 29/40 [00:12<00:04,  2.30it/s]"
          ],
          "name": "stderr"
        },
        {
          "output_type": "stream",
          "text": [
            "E28 loss=[ 10.47, 10.37] acc=[97.52,97.36]\n"
          ],
          "name": "stdout"
        },
        {
          "output_type": "stream",
          "text": [
            "\r 75%|███████▌  | 30/40 [00:13<00:04,  2.28it/s]"
          ],
          "name": "stderr"
        },
        {
          "output_type": "stream",
          "text": [
            "E29 loss=[ 10.15,  9.94] acc=[97.38,97.46]\n"
          ],
          "name": "stdout"
        },
        {
          "output_type": "stream",
          "text": [
            "\r 78%|███████▊  | 31/40 [00:13<00:03,  2.29it/s]"
          ],
          "name": "stderr"
        },
        {
          "output_type": "stream",
          "text": [
            "E30 loss=[  9.94,  9.70] acc=[97.29,97.66]\n"
          ],
          "name": "stdout"
        },
        {
          "output_type": "stream",
          "text": [
            "\r 80%|████████  | 32/40 [00:14<00:03,  2.29it/s]"
          ],
          "name": "stderr"
        },
        {
          "output_type": "stream",
          "text": [
            "E31 loss=[  9.53,  9.22] acc=[97.80,98.14]\n"
          ],
          "name": "stdout"
        },
        {
          "output_type": "stream",
          "text": [
            "\r 82%|████████▎ | 33/40 [00:14<00:03,  2.28it/s]"
          ],
          "name": "stderr"
        },
        {
          "output_type": "stream",
          "text": [
            "E32 loss=[  9.28,  9.19] acc=[98.01,97.66]\n"
          ],
          "name": "stdout"
        },
        {
          "output_type": "stream",
          "text": [
            "\r 85%|████████▌ | 34/40 [00:14<00:02,  2.30it/s]"
          ],
          "name": "stderr"
        },
        {
          "output_type": "stream",
          "text": [
            "E33 loss=[  8.97,  8.70] acc=[98.20,98.44]\n"
          ],
          "name": "stdout"
        },
        {
          "output_type": "stream",
          "text": [
            "\r 88%|████████▊ | 35/40 [00:15<00:02,  2.29it/s]"
          ],
          "name": "stderr"
        },
        {
          "output_type": "stream",
          "text": [
            "E34 loss=[  8.76,  8.39] acc=[98.25,98.44]\n"
          ],
          "name": "stdout"
        },
        {
          "output_type": "stream",
          "text": [
            "\r 90%|█████████ | 36/40 [00:15<00:01,  2.28it/s]"
          ],
          "name": "stderr"
        },
        {
          "output_type": "stream",
          "text": [
            "E35 loss=[  8.63,  8.48] acc=[98.09,98.14]\n"
          ],
          "name": "stdout"
        },
        {
          "output_type": "stream",
          "text": [
            "\r 92%|█████████▎| 37/40 [00:16<00:01,  2.29it/s]"
          ],
          "name": "stderr"
        },
        {
          "output_type": "stream",
          "text": [
            "E36 loss=[  8.29,  8.09] acc=[98.22,98.54]\n"
          ],
          "name": "stdout"
        },
        {
          "output_type": "stream",
          "text": [
            "\r 95%|█████████▌| 38/40 [00:16<00:00,  2.30it/s]"
          ],
          "name": "stderr"
        },
        {
          "output_type": "stream",
          "text": [
            "E37 loss=[  8.13,  7.78] acc=[98.22,98.34]\n"
          ],
          "name": "stdout"
        },
        {
          "output_type": "stream",
          "text": [
            "\r 98%|█████████▊| 39/40 [00:17<00:00,  2.27it/s]"
          ],
          "name": "stderr"
        },
        {
          "output_type": "stream",
          "text": [
            "E38 loss=[  7.93,  7.86] acc=[97.96,97.66]\n"
          ],
          "name": "stdout"
        },
        {
          "output_type": "stream",
          "text": [
            "100%|██████████| 40/40 [00:17<00:00,  2.27it/s]"
          ],
          "name": "stderr"
        },
        {
          "output_type": "stream",
          "text": [
            "E39 loss=[  7.68,  7.56] acc=[98.34,98.54]\n"
          ],
          "name": "stdout"
        },
        {
          "output_type": "stream",
          "text": [
            "\n"
          ],
          "name": "stderr"
        }
      ]
    },
    {
      "cell_type": "code",
      "metadata": {
        "colab": {
          "base_uri": "https://localhost:8080/",
          "height": 280
        },
        "id": "cS6kX1cjlTCg",
        "outputId": "455aa2e7-e3c6-426e-f098-78ef745f30ee"
      },
      "source": [
        "trn_loss, tst_loss = zip(*loss_hist)\n",
        "plt.plot(trn_loss, 'tab:orange', label='trn loss')\n",
        "plt.plot(tst_loss, 'tab:red', label='tst loss')\n",
        "plt.legend(loc='upper right')\n",
        "plt.xlabel('época')\n",
        "plt.ylabel('pérdida')\n",
        "plt.show()"
      ],
      "execution_count": 142,
      "outputs": [
        {
          "output_type": "display_data",
          "data": {
            "image/png": "[encoded data removed]",
            "text/plain": [
              "<Figure size 432x288 with 1 Axes>"
            ]
          },
          "metadata": {
            "tags": [],
            "needs_background": "light"
          }
        }
      ]
    },
    {
      "cell_type": "code",
      "metadata": {
        "colab": {
          "base_uri": "https://localhost:8080/",
          "height": 281
        },
        "id": "ZykveuwXlSwh",
        "outputId": "74c48265-1ca1-482c-d5d5-5a6fdfa4f08d"
      },
      "source": [
        "trn_acc_2_64, tst_acc_2_64 = zip(*acc_hist)\n",
        "plt.plot(trn_acc_2_64, 'tab:green', label='trn acc')\n",
        "plt.plot(tst_acc_2_64, 'tab:blue', label='tst acc')\n",
        "plt.legend(loc='lower right')\n",
        "plt.xlabel('época')\n",
        "plt.ylabel('exactitud')\n",
        "plt.show()"
      ],
      "execution_count": 143,
      "outputs": [
        {
          "output_type": "display_data",
          "data": {
            "image/png": "[encoded data removed]",
            "text/plain": [
              "<Figure size 432x288 with 1 Axes>"
            ]
          },
          "metadata": {
            "tags": [],
            "needs_background": "light"
          }
        }
      ]
    },
    {
      "cell_type": "markdown",
      "metadata": {
        "id": "4ZvJ8p8iiVQF"
      },
      "source": [
        "El problema aquí es que se le tienen que poner más capas ocultas con más neuronas para que lo pueda resolver de mejor manera. Ya vimos que no se puede resolver con una sola neurona, o al menos no se tienen buenos resultados con esto, más bien lo hace lineal y siempre tendrá alrededor de 50% en accuracy. Al irle metiendo más capas y más neuronas se tienen mejores resultados hasta casi tener una exactitud del 100% con sólo dos capas y 4 neuronas."
      ]
    }
  ]
}